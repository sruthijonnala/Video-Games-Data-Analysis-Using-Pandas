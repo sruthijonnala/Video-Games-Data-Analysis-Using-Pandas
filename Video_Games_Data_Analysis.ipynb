{
 "cells": [
  {
   "cell_type": "markdown",
   "id": "381c780b-d3fa-4c06-a962-cf8da4d967ba",
   "metadata": {},
   "source": [
    "# Video Games Data Analysis Using Pandas"
   ]
  },
  {
   "cell_type": "code",
   "execution_count": 6,
   "id": "7e8d0905-d7f4-4009-9bc3-04ce8e296843",
   "metadata": {},
   "outputs": [
    {
     "data": {
      "text/html": [
       "<div>\n",
       "<style scoped>\n",
       "    .dataframe tbody tr th:only-of-type {\n",
       "        vertical-align: middle;\n",
       "    }\n",
       "\n",
       "    .dataframe tbody tr th {\n",
       "        vertical-align: top;\n",
       "    }\n",
       "\n",
       "    .dataframe thead th {\n",
       "        text-align: right;\n",
       "    }\n",
       "</style>\n",
       "<table border=\"1\" class=\"dataframe\">\n",
       "  <thead>\n",
       "    <tr style=\"text-align: right;\">\n",
       "      <th></th>\n",
       "      <th>Name</th>\n",
       "      <th>Platform</th>\n",
       "      <th>Year_of_Release</th>\n",
       "      <th>Genre</th>\n",
       "      <th>Publisher</th>\n",
       "      <th>NA_Sales</th>\n",
       "      <th>EU_Sales</th>\n",
       "      <th>JP_Sales</th>\n",
       "      <th>Other_Sales</th>\n",
       "      <th>Global_Sales</th>\n",
       "      <th>Critic_Score</th>\n",
       "      <th>Critic_Count</th>\n",
       "      <th>User_Score</th>\n",
       "      <th>User_Count</th>\n",
       "      <th>Developer</th>\n",
       "      <th>Rating</th>\n",
       "    </tr>\n",
       "  </thead>\n",
       "  <tbody>\n",
       "    <tr>\n",
       "      <th>0</th>\n",
       "      <td>Wii Sports</td>\n",
       "      <td>Wii</td>\n",
       "      <td>2006.0</td>\n",
       "      <td>Sports</td>\n",
       "      <td>Nintendo</td>\n",
       "      <td>41.36</td>\n",
       "      <td>28.96</td>\n",
       "      <td>3.77</td>\n",
       "      <td>8.45</td>\n",
       "      <td>82.53</td>\n",
       "      <td>76.0</td>\n",
       "      <td>51.0</td>\n",
       "      <td>8</td>\n",
       "      <td>322.0</td>\n",
       "      <td>Nintendo</td>\n",
       "      <td>E</td>\n",
       "    </tr>\n",
       "    <tr>\n",
       "      <th>1</th>\n",
       "      <td>Super Mario Bros.</td>\n",
       "      <td>NES</td>\n",
       "      <td>1985.0</td>\n",
       "      <td>Platform</td>\n",
       "      <td>Nintendo</td>\n",
       "      <td>29.08</td>\n",
       "      <td>3.58</td>\n",
       "      <td>6.81</td>\n",
       "      <td>0.77</td>\n",
       "      <td>40.24</td>\n",
       "      <td>NaN</td>\n",
       "      <td>NaN</td>\n",
       "      <td>NaN</td>\n",
       "      <td>NaN</td>\n",
       "      <td>NaN</td>\n",
       "      <td>NaN</td>\n",
       "    </tr>\n",
       "    <tr>\n",
       "      <th>2</th>\n",
       "      <td>Mario Kart Wii</td>\n",
       "      <td>Wii</td>\n",
       "      <td>2008.0</td>\n",
       "      <td>Racing</td>\n",
       "      <td>Nintendo</td>\n",
       "      <td>15.68</td>\n",
       "      <td>12.76</td>\n",
       "      <td>3.79</td>\n",
       "      <td>3.29</td>\n",
       "      <td>35.52</td>\n",
       "      <td>82.0</td>\n",
       "      <td>73.0</td>\n",
       "      <td>8.3</td>\n",
       "      <td>709.0</td>\n",
       "      <td>Nintendo</td>\n",
       "      <td>E</td>\n",
       "    </tr>\n",
       "    <tr>\n",
       "      <th>3</th>\n",
       "      <td>Wii Sports Resort</td>\n",
       "      <td>Wii</td>\n",
       "      <td>2009.0</td>\n",
       "      <td>Sports</td>\n",
       "      <td>Nintendo</td>\n",
       "      <td>15.61</td>\n",
       "      <td>10.93</td>\n",
       "      <td>3.28</td>\n",
       "      <td>2.95</td>\n",
       "      <td>32.77</td>\n",
       "      <td>80.0</td>\n",
       "      <td>73.0</td>\n",
       "      <td>8</td>\n",
       "      <td>192.0</td>\n",
       "      <td>Nintendo</td>\n",
       "      <td>E</td>\n",
       "    </tr>\n",
       "    <tr>\n",
       "      <th>4</th>\n",
       "      <td>Pokemon Red/Pokemon Blue</td>\n",
       "      <td>GB</td>\n",
       "      <td>1996.0</td>\n",
       "      <td>Role-Playing</td>\n",
       "      <td>Nintendo</td>\n",
       "      <td>11.27</td>\n",
       "      <td>8.89</td>\n",
       "      <td>10.22</td>\n",
       "      <td>1.00</td>\n",
       "      <td>31.37</td>\n",
       "      <td>NaN</td>\n",
       "      <td>NaN</td>\n",
       "      <td>NaN</td>\n",
       "      <td>NaN</td>\n",
       "      <td>NaN</td>\n",
       "      <td>NaN</td>\n",
       "    </tr>\n",
       "    <tr>\n",
       "      <th>...</th>\n",
       "      <td>...</td>\n",
       "      <td>...</td>\n",
       "      <td>...</td>\n",
       "      <td>...</td>\n",
       "      <td>...</td>\n",
       "      <td>...</td>\n",
       "      <td>...</td>\n",
       "      <td>...</td>\n",
       "      <td>...</td>\n",
       "      <td>...</td>\n",
       "      <td>...</td>\n",
       "      <td>...</td>\n",
       "      <td>...</td>\n",
       "      <td>...</td>\n",
       "      <td>...</td>\n",
       "      <td>...</td>\n",
       "    </tr>\n",
       "    <tr>\n",
       "      <th>16714</th>\n",
       "      <td>Samurai Warriors: Sanada Maru</td>\n",
       "      <td>PS3</td>\n",
       "      <td>2016.0</td>\n",
       "      <td>Action</td>\n",
       "      <td>Tecmo Koei</td>\n",
       "      <td>0.00</td>\n",
       "      <td>0.00</td>\n",
       "      <td>0.01</td>\n",
       "      <td>0.00</td>\n",
       "      <td>0.01</td>\n",
       "      <td>NaN</td>\n",
       "      <td>NaN</td>\n",
       "      <td>NaN</td>\n",
       "      <td>NaN</td>\n",
       "      <td>NaN</td>\n",
       "      <td>NaN</td>\n",
       "    </tr>\n",
       "    <tr>\n",
       "      <th>16715</th>\n",
       "      <td>LMA Manager 2007</td>\n",
       "      <td>X360</td>\n",
       "      <td>2006.0</td>\n",
       "      <td>Sports</td>\n",
       "      <td>Codemasters</td>\n",
       "      <td>0.00</td>\n",
       "      <td>0.01</td>\n",
       "      <td>0.00</td>\n",
       "      <td>0.00</td>\n",
       "      <td>0.01</td>\n",
       "      <td>NaN</td>\n",
       "      <td>NaN</td>\n",
       "      <td>NaN</td>\n",
       "      <td>NaN</td>\n",
       "      <td>NaN</td>\n",
       "      <td>NaN</td>\n",
       "    </tr>\n",
       "    <tr>\n",
       "      <th>16716</th>\n",
       "      <td>Haitaka no Psychedelica</td>\n",
       "      <td>PSV</td>\n",
       "      <td>2016.0</td>\n",
       "      <td>Adventure</td>\n",
       "      <td>Idea Factory</td>\n",
       "      <td>0.00</td>\n",
       "      <td>0.00</td>\n",
       "      <td>0.01</td>\n",
       "      <td>0.00</td>\n",
       "      <td>0.01</td>\n",
       "      <td>NaN</td>\n",
       "      <td>NaN</td>\n",
       "      <td>NaN</td>\n",
       "      <td>NaN</td>\n",
       "      <td>NaN</td>\n",
       "      <td>NaN</td>\n",
       "    </tr>\n",
       "    <tr>\n",
       "      <th>16717</th>\n",
       "      <td>Spirits &amp; Spells</td>\n",
       "      <td>GBA</td>\n",
       "      <td>2003.0</td>\n",
       "      <td>Platform</td>\n",
       "      <td>Wanadoo</td>\n",
       "      <td>0.01</td>\n",
       "      <td>0.00</td>\n",
       "      <td>0.00</td>\n",
       "      <td>0.00</td>\n",
       "      <td>0.01</td>\n",
       "      <td>NaN</td>\n",
       "      <td>NaN</td>\n",
       "      <td>NaN</td>\n",
       "      <td>NaN</td>\n",
       "      <td>NaN</td>\n",
       "      <td>NaN</td>\n",
       "    </tr>\n",
       "    <tr>\n",
       "      <th>16718</th>\n",
       "      <td>Winning Post 8 2016</td>\n",
       "      <td>PSV</td>\n",
       "      <td>2016.0</td>\n",
       "      <td>Simulation</td>\n",
       "      <td>Tecmo Koei</td>\n",
       "      <td>0.00</td>\n",
       "      <td>0.00</td>\n",
       "      <td>0.01</td>\n",
       "      <td>0.00</td>\n",
       "      <td>0.01</td>\n",
       "      <td>NaN</td>\n",
       "      <td>NaN</td>\n",
       "      <td>NaN</td>\n",
       "      <td>NaN</td>\n",
       "      <td>NaN</td>\n",
       "      <td>NaN</td>\n",
       "    </tr>\n",
       "  </tbody>\n",
       "</table>\n",
       "<p>16719 rows × 16 columns</p>\n",
       "</div>"
      ],
      "text/plain": [
       "                                Name Platform  Year_of_Release         Genre  \\\n",
       "0                         Wii Sports      Wii           2006.0        Sports   \n",
       "1                  Super Mario Bros.      NES           1985.0      Platform   \n",
       "2                     Mario Kart Wii      Wii           2008.0        Racing   \n",
       "3                  Wii Sports Resort      Wii           2009.0        Sports   \n",
       "4           Pokemon Red/Pokemon Blue       GB           1996.0  Role-Playing   \n",
       "...                              ...      ...              ...           ...   \n",
       "16714  Samurai Warriors: Sanada Maru      PS3           2016.0        Action   \n",
       "16715               LMA Manager 2007     X360           2006.0        Sports   \n",
       "16716        Haitaka no Psychedelica      PSV           2016.0     Adventure   \n",
       "16717               Spirits & Spells      GBA           2003.0      Platform   \n",
       "16718            Winning Post 8 2016      PSV           2016.0    Simulation   \n",
       "\n",
       "          Publisher  NA_Sales  EU_Sales  JP_Sales  Other_Sales  Global_Sales  \\\n",
       "0          Nintendo     41.36     28.96      3.77         8.45         82.53   \n",
       "1          Nintendo     29.08      3.58      6.81         0.77         40.24   \n",
       "2          Nintendo     15.68     12.76      3.79         3.29         35.52   \n",
       "3          Nintendo     15.61     10.93      3.28         2.95         32.77   \n",
       "4          Nintendo     11.27      8.89     10.22         1.00         31.37   \n",
       "...             ...       ...       ...       ...          ...           ...   \n",
       "16714    Tecmo Koei      0.00      0.00      0.01         0.00          0.01   \n",
       "16715   Codemasters      0.00      0.01      0.00         0.00          0.01   \n",
       "16716  Idea Factory      0.00      0.00      0.01         0.00          0.01   \n",
       "16717       Wanadoo      0.01      0.00      0.00         0.00          0.01   \n",
       "16718    Tecmo Koei      0.00      0.00      0.01         0.00          0.01   \n",
       "\n",
       "       Critic_Score  Critic_Count User_Score  User_Count Developer Rating  \n",
       "0              76.0          51.0          8       322.0  Nintendo      E  \n",
       "1               NaN           NaN        NaN         NaN       NaN    NaN  \n",
       "2              82.0          73.0        8.3       709.0  Nintendo      E  \n",
       "3              80.0          73.0          8       192.0  Nintendo      E  \n",
       "4               NaN           NaN        NaN         NaN       NaN    NaN  \n",
       "...             ...           ...        ...         ...       ...    ...  \n",
       "16714           NaN           NaN        NaN         NaN       NaN    NaN  \n",
       "16715           NaN           NaN        NaN         NaN       NaN    NaN  \n",
       "16716           NaN           NaN        NaN         NaN       NaN    NaN  \n",
       "16717           NaN           NaN        NaN         NaN       NaN    NaN  \n",
       "16718           NaN           NaN        NaN         NaN       NaN    NaN  \n",
       "\n",
       "[16719 rows x 16 columns]"
      ]
     },
     "execution_count": 6,
     "metadata": {},
     "output_type": "execute_result"
    }
   ],
   "source": [
    "import pandas as pd\n",
    "vgame = pd.read_csv(\"C:\\\\Users\\\\HP\\\\OneDrive\\\\Attachments\\\\Video_Games1.csv\")\n",
    "vgame"
   ]
  },
  {
   "cell_type": "code",
   "execution_count": 7,
   "id": "ca536938-21fa-4e3e-a230-23af6dd5d50b",
   "metadata": {},
   "outputs": [
    {
     "name": "stdout",
     "output_type": "stream",
     "text": [
      "                       Name Platform  Year_of_Release         Genre Publisher  \\\n",
      "0                Wii Sports      Wii           2006.0        Sports  Nintendo   \n",
      "1         Super Mario Bros.      NES           1985.0      Platform  Nintendo   \n",
      "2            Mario Kart Wii      Wii           2008.0        Racing  Nintendo   \n",
      "3         Wii Sports Resort      Wii           2009.0        Sports  Nintendo   \n",
      "4  Pokemon Red/Pokemon Blue       GB           1996.0  Role-Playing  Nintendo   \n",
      "\n",
      "   NA_Sales  EU_Sales  JP_Sales  Other_Sales  Global_Sales  Critic_Score  \\\n",
      "0     41.36     28.96      3.77         8.45         82.53          76.0   \n",
      "1     29.08      3.58      6.81         0.77         40.24           NaN   \n",
      "2     15.68     12.76      3.79         3.29         35.52          82.0   \n",
      "3     15.61     10.93      3.28         2.95         32.77          80.0   \n",
      "4     11.27      8.89     10.22         1.00         31.37           NaN   \n",
      "\n",
      "   Critic_Count User_Score  User_Count Developer Rating  \n",
      "0          51.0          8       322.0  Nintendo      E  \n",
      "1           NaN        NaN         NaN       NaN    NaN  \n",
      "2          73.0        8.3       709.0  Nintendo      E  \n",
      "3          73.0          8       192.0  Nintendo      E  \n",
      "4           NaN        NaN         NaN       NaN    NaN  \n"
     ]
    }
   ],
   "source": [
    "#1. Get sample of 5 rows\n",
    "rows = vgame.head()\n",
    "print(rows)"
   ]
  },
  {
   "cell_type": "code",
   "execution_count": 8,
   "id": "91df00a4",
   "metadata": {},
   "outputs": [
    {
     "name": "stdout",
     "output_type": "stream",
     "text": [
      "                       Name Platform  Year_of_Release         Genre Publisher  \\\n",
      "0                Wii Sports      Wii           2006.0        Sports  Nintendo   \n",
      "1         Super Mario Bros.      NES           1985.0      Platform  Nintendo   \n",
      "2            Mario Kart Wii      Wii           2008.0        Racing  Nintendo   \n",
      "3         Wii Sports Resort      Wii           2009.0        Sports  Nintendo   \n",
      "4  Pokemon Red/Pokemon Blue       GB           1996.0  Role-Playing  Nintendo   \n",
      "\n",
      "   NA_Sales  EU_Sales  JP_Sales  Other_Sales  Global_Sales  Critic_Score  \\\n",
      "0     41.36     28.96      3.77         8.45         82.53          76.0   \n",
      "1     29.08      3.58      6.81         0.77         40.24           NaN   \n",
      "2     15.68     12.76      3.79         3.29         35.52          82.0   \n",
      "3     15.61     10.93      3.28         2.95         32.77          80.0   \n",
      "4     11.27      8.89     10.22         1.00         31.37           NaN   \n",
      "\n",
      "   Critic_Count User_Score  User_Count Developer Rating  \n",
      "0          51.0          8       322.0  Nintendo      E  \n",
      "1           NaN        NaN         NaN       NaN    NaN  \n",
      "2          73.0        8.3       709.0  Nintendo      E  \n",
      "3          73.0          8       192.0  Nintendo      E  \n",
      "4           NaN        NaN         NaN       NaN    NaN  \n"
     ]
    }
   ],
   "source": [
    "#1. Get sample of 5 rows\n",
    "rows = vgame.head()\n",
    "print(rows)"
   ]
  },
  {
   "cell_type": "code",
   "execution_count": 9,
   "id": "38ca008b-b244-4e49-bf68-e2f6202fab79",
   "metadata": {},
   "outputs": [
    {
     "name": "stdout",
     "output_type": "stream",
     "text": [
      "Index(['Name', 'Platform', 'Year_of_Release', 'Genre', 'Publisher', 'NA_Sales',\n",
      "       'EU_Sales', 'JP_Sales', 'Other_Sales', 'Global_Sales', 'Critic_Score',\n",
      "       'Critic_Count', 'User_Score', 'User_Count', 'Developer', 'Rating'],\n",
      "      dtype='object')\n"
     ]
    }
   ],
   "source": [
    "#2. Display all the columns\n",
    "all_columns = vgame.columns\n",
    "print(all_columns)\n"
   ]
  },
  {
   "cell_type": "code",
   "execution_count": 10,
   "id": "ab58fca2-f4c2-49ef-9b36-78b3fa61205e",
   "metadata": {},
   "outputs": [
    {
     "name": "stdout",
     "output_type": "stream",
     "text": [
      "(16719, 16)\n"
     ]
    }
   ],
   "source": [
    "# 3. Display the dimensions\n",
    "dimensions = vgame.shape\n",
    "print(dimensions)"
   ]
  },
  {
   "cell_type": "code",
   "execution_count": 11,
   "id": "34d1717b-3986-4798-a7d7-bfe7309887c8",
   "metadata": {},
   "outputs": [
    {
     "name": "stdout",
     "output_type": "stream",
     "text": [
      "Name                object\n",
      "Platform            object\n",
      "Year_of_Release    float64\n",
      "Genre               object\n",
      "Publisher           object\n",
      "NA_Sales           float64\n",
      "EU_Sales           float64\n",
      "JP_Sales           float64\n",
      "Other_Sales        float64\n",
      "Global_Sales       float64\n",
      "Critic_Score       float64\n",
      "Critic_Count       float64\n",
      "User_Score          object\n",
      "User_Count         float64\n",
      "Developer           object\n",
      "Rating              object\n",
      "dtype: object\n"
     ]
    }
   ],
   "source": [
    "# 4. Dispaly all columns data types\n",
    "data_types = vgame.dtypes\n",
    "print(data_types)"
   ]
  },
  {
   "cell_type": "code",
   "execution_count": 12,
   "id": "9b51bc4c-c652-4972-af92-933355de4eb3",
   "metadata": {},
   "outputs": [
    {
     "name": "stdout",
     "output_type": "stream",
     "text": [
      "                        Name Platform  Year_of_Release         Genre  \\\n",
      "0                 Wii Sports      Wii           2006.0        Sports   \n",
      "1          Super Mario Bros.      NES           1985.0      Platform   \n",
      "2             Mario Kart Wii      Wii           2008.0        Racing   \n",
      "3          Wii Sports Resort      Wii           2009.0        Sports   \n",
      "4   Pokemon Red/Pokemon Blue       GB           1996.0  Role-Playing   \n",
      "5                     Tetris       GB           1989.0        Puzzle   \n",
      "6      New Super Mario Bros.       DS           2006.0      Platform   \n",
      "7                   Wii Play      Wii           2006.0          Misc   \n",
      "8  New Super Mario Bros. Wii      Wii           2009.0      Platform   \n",
      "9                  Duck Hunt      NES           1984.0       Shooter   \n",
      "\n",
      "  Publisher  NA_Sales  EU_Sales  JP_Sales  Other_Sales  Global_Sales  \\\n",
      "0  Nintendo     41.36     28.96      3.77         8.45         82.53   \n",
      "1  Nintendo     29.08      3.58      6.81         0.77         40.24   \n",
      "2  Nintendo     15.68     12.76      3.79         3.29         35.52   \n",
      "3  Nintendo     15.61     10.93      3.28         2.95         32.77   \n",
      "4  Nintendo     11.27      8.89     10.22         1.00         31.37   \n",
      "5  Nintendo     23.20      2.26      4.22         0.58         30.26   \n",
      "6  Nintendo     11.28      9.14      6.50         2.88         29.80   \n",
      "7  Nintendo     13.96      9.18      2.93         2.84         28.92   \n",
      "8  Nintendo     14.44      6.94      4.70         2.24         28.32   \n",
      "9  Nintendo     26.93      0.63      0.28         0.47         28.31   \n",
      "\n",
      "   Critic_Score  Critic_Count User_Score  User_Count Developer Rating  \n",
      "0          76.0          51.0          8       322.0  Nintendo      E  \n",
      "1           NaN           NaN        NaN         NaN       NaN    NaN  \n",
      "2          82.0          73.0        8.3       709.0  Nintendo      E  \n",
      "3          80.0          73.0          8       192.0  Nintendo      E  \n",
      "4           NaN           NaN        NaN         NaN       NaN    NaN  \n",
      "5           NaN           NaN        NaN         NaN       NaN    NaN  \n",
      "6          89.0          65.0        8.5       431.0  Nintendo      E  \n",
      "7          58.0          41.0        6.6       129.0  Nintendo      E  \n",
      "8          87.0          80.0        8.4       594.0  Nintendo      E  \n",
      "9           NaN           NaN        NaN         NaN       NaN    NaN  \n"
     ]
    }
   ],
   "source": [
    "# 5. Display Top 10 rows\n",
    "top_10_rows = vgame.head(10)\n",
    "print(top_10_rows)"
   ]
  },
  {
   "cell_type": "code",
   "execution_count": 13,
   "id": "e1729ad6-5dfe-4c3f-a484-2e64563eaaf8",
   "metadata": {},
   "outputs": [
    {
     "name": "stdout",
     "output_type": "stream",
     "text": [
      "                                                   Name Platform  \\\n",
      "16709                                           15 Days       PC   \n",
      "16710                     Men in Black II: Alien Escape       GC   \n",
      "16711                                  Aiyoku no Eustia      PSV   \n",
      "16712                Woody Woodpecker in Crazy Castle 5      GBA   \n",
      "16713  SCORE International Baja 1000: The Official Game      PS2   \n",
      "16714                     Samurai Warriors: Sanada Maru      PS3   \n",
      "16715                                  LMA Manager 2007     X360   \n",
      "16716                           Haitaka no Psychedelica      PSV   \n",
      "16717                                  Spirits & Spells      GBA   \n",
      "16718                               Winning Post 8 2016      PSV   \n",
      "\n",
      "       Year_of_Release       Genre          Publisher  NA_Sales  EU_Sales  \\\n",
      "16709           2009.0   Adventure  DTP Entertainment      0.00      0.01   \n",
      "16710           2003.0     Shooter         Infogrames      0.01      0.00   \n",
      "16711           2014.0        Misc    dramatic create      0.00      0.00   \n",
      "16712           2002.0    Platform              Kemco      0.01      0.00   \n",
      "16713           2008.0      Racing         Activision      0.00      0.00   \n",
      "16714           2016.0      Action         Tecmo Koei      0.00      0.00   \n",
      "16715           2006.0      Sports        Codemasters      0.00      0.01   \n",
      "16716           2016.0   Adventure       Idea Factory      0.00      0.00   \n",
      "16717           2003.0    Platform            Wanadoo      0.01      0.00   \n",
      "16718           2016.0  Simulation         Tecmo Koei      0.00      0.00   \n",
      "\n",
      "       JP_Sales  Other_Sales  Global_Sales  Critic_Score  Critic_Count  \\\n",
      "16709      0.00          0.0          0.01          63.0           6.0   \n",
      "16710      0.00          0.0          0.01           NaN           NaN   \n",
      "16711      0.01          0.0          0.01           NaN           NaN   \n",
      "16712      0.00          0.0          0.01           NaN           NaN   \n",
      "16713      0.00          0.0          0.01           NaN           NaN   \n",
      "16714      0.01          0.0          0.01           NaN           NaN   \n",
      "16715      0.00          0.0          0.01           NaN           NaN   \n",
      "16716      0.01          0.0          0.01           NaN           NaN   \n",
      "16717      0.00          0.0          0.01           NaN           NaN   \n",
      "16718      0.01          0.0          0.01           NaN           NaN   \n",
      "\n",
      "      User_Score  User_Count          Developer Rating  \n",
      "16709        5.8         8.0  DTP Entertainment    NaN  \n",
      "16710        tbd         NaN              Atari      T  \n",
      "16711        NaN         NaN                NaN    NaN  \n",
      "16712        NaN         NaN                NaN    NaN  \n",
      "16713        NaN         NaN                NaN    NaN  \n",
      "16714        NaN         NaN                NaN    NaN  \n",
      "16715        NaN         NaN                NaN    NaN  \n",
      "16716        NaN         NaN                NaN    NaN  \n",
      "16717        NaN         NaN                NaN    NaN  \n",
      "16718        NaN         NaN                NaN    NaN  \n"
     ]
    }
   ],
   "source": [
    "# 6. Bottom 10 rows\n",
    "bottom_rows = vgame.tail(10)\n",
    "print(bottom_rows)"
   ]
  },
  {
   "cell_type": "code",
   "execution_count": 14,
   "id": "b25459ac-a822-45a0-b832-5c9e5f9aa74f",
   "metadata": {},
   "outputs": [
    {
     "name": "stdout",
     "output_type": "stream",
     "text": [
      "                      Name Platform  Year_of_Release   Genre  \\\n",
      "28  Gran Turismo 3: A-Spec      PS2           2001.0  Racing   \n",
      "52            Gran Turismo       PS           1997.0  Racing   \n",
      "\n",
      "                      Publisher  NA_Sales  EU_Sales  JP_Sales  Other_Sales  \\\n",
      "28  Sony Computer Entertainment      6.85      5.09      1.87         1.16   \n",
      "52  Sony Computer Entertainment      4.02      3.87      2.54         0.52   \n",
      "\n",
      "    Global_Sales  Critic_Score  Critic_Count User_Score  User_Count  \\\n",
      "28         14.98          95.0          54.0        8.4       314.0   \n",
      "52         10.95          96.0          16.0        8.7       138.0   \n",
      "\n",
      "            Developer Rating  \n",
      "28  Polyphony Digital      E  \n",
      "52  Polyphony Digital      E  \n"
     ]
    }
   ],
   "source": [
    "# 7. Display all Racing Games which have Critic_score >= 95.\n",
    "games = vgame[(vgame['Genre'] == 'Racing') & (vgame['Critic_Score']>= 95)]\n",
    "print(games)"
   ]
  },
  {
   "cell_type": "code",
   "execution_count": 15,
   "id": "c2c7bfdc-199e-468c-a41e-71ec7f29ccf3",
   "metadata": {},
   "outputs": [
    {
     "name": "stdout",
     "output_type": "stream",
     "text": [
      "                                Name Platform  Year_of_Release         Genre  \\\n",
      "65                 Final Fantasy VII       PS           1997.0  Role-Playing   \n",
      "97              Super Mario Galaxy 2      Wii           2010.0      Platform   \n",
      "106                         Tekken 3       PS           1998.0      Fighting   \n",
      "110                     Mario Kart 8     WiiU           2014.0        Racing   \n",
      "111          Super Smash Bros. Melee       GC           2001.0      Fighting   \n",
      "...                              ...      ...              ...           ...   \n",
      "16699                Planet Monsters      GBA           2001.0        Action   \n",
      "16701               Bust-A-Move 3000       GC           2003.0        Puzzle   \n",
      "16702               Mega Brain Boost       DS           2008.0        Puzzle   \n",
      "16708                       Plushees       DS           2008.0    Simulation   \n",
      "16710  Men in Black II: Alien Escape       GC           2003.0       Shooter   \n",
      "\n",
      "                         Publisher  NA_Sales  EU_Sales  JP_Sales  Other_Sales  \\\n",
      "65     Sony Computer Entertainment      3.01      2.47      3.28         0.96   \n",
      "97                        Nintendo      3.56      2.35      0.98         0.62   \n",
      "106    Sony Computer Entertainment      3.27      2.22      1.40         0.29   \n",
      "110                       Nintendo      3.15      2.15      1.28         0.51   \n",
      "111                       Nintendo      4.41      1.04      1.39         0.22   \n",
      "...                            ...       ...       ...       ...          ...   \n",
      "16699                        Titus      0.01      0.00      0.00         0.00   \n",
      "16701                      Ubisoft      0.01      0.00      0.00         0.00   \n",
      "16702        Majesco Entertainment      0.01      0.00      0.00         0.00   \n",
      "16708                    Destineer      0.01      0.00      0.00         0.00   \n",
      "16710                   Infogrames      0.01      0.00      0.00         0.00   \n",
      "\n",
      "       Global_Sales  Critic_Score  Critic_Count User_Score  User_Count  \\\n",
      "65             9.72          92.0          20.0        9.2      1282.0   \n",
      "97             7.51          97.0          87.0        9.1      1854.0   \n",
      "106            7.16          96.0          15.0        9.1       367.0   \n",
      "110            7.09          88.0          82.0        9.1      1599.0   \n",
      "111            7.07          92.0          38.0        9.1       568.0   \n",
      "...             ...           ...           ...        ...         ...   \n",
      "16699          0.01          67.0           9.0        tbd         NaN   \n",
      "16701          0.01          53.0           4.0        tbd         NaN   \n",
      "16702          0.01          48.0          10.0        tbd         NaN   \n",
      "16708          0.01           NaN           NaN        tbd         NaN   \n",
      "16710          0.01           NaN           NaN        tbd         NaN   \n",
      "\n",
      "                Developer Rating  \n",
      "65             SquareSoft      T  \n",
      "97     Nintendo EAD Tokyo      E  \n",
      "106                 Namco      T  \n",
      "110              Nintendo      E  \n",
      "111              HAL Labs      T  \n",
      "...                   ...    ...  \n",
      "16699  Planet Interactive      E  \n",
      "16701   Taito Corporation      E  \n",
      "16702  Interchannel-Holon      E  \n",
      "16708      Big John Games      E  \n",
      "16710               Atari      T  \n",
      "\n",
      "[2609 rows x 16 columns]\n"
     ]
    }
   ],
   "source": [
    "#8. Display video games whos user_score>9.\n",
    "video_games_user_score = vgame[vgame['User_Score'] > '9']\n",
    "print(video_games_user_score)"
   ]
  },
  {
   "cell_type": "code",
   "execution_count": 16,
   "id": "a268a368-2ad9-408c-b6fd-ec74b7a5c39f",
   "metadata": {},
   "outputs": [
    {
     "name": "stdout",
     "output_type": "stream",
     "text": [
      "['8' nan '8.3' '8.5' '6.6' '8.4' '8.6' '7.7' '6.3' '7.4' '8.2' '9' '7.9'\n",
      " '8.1' '8.7' '7.1' '3.4' '5.3' '4.8' '3.2' '8.9' '6.4' '7.8' '7.5' '2.6'\n",
      " '7.2' '9.2' '7' '7.3' '4.3' '7.6' '5.7' '5' '9.1' '6.5' 'tbd' '8.8' '6.9'\n",
      " '9.4' '6.8' '6.1' '6.7' '5.4' '4' '4.9' '4.5' '9.3' '6.2' '4.2' '6' '3.7'\n",
      " '4.1' '5.8' '5.6' '5.5' '4.4' '4.6' '5.9' '3.9' '3.1' '2.9' '5.2' '3.3'\n",
      " '4.7' '5.1' '3.5' '2.5' '1.9' '3' '2.7' '2.2' '2' '9.5' '2.1' '3.6' '2.8'\n",
      " '1.8' '3.8' '0' '1.6' '9.6' '2.4' '1.7' '1.1' '0.3' '1.5' '0.7' '1.2'\n",
      " '2.3' '0.5' '1.3' '0.2' '0.6' '1.4' '0.9' '1' '9.7']\n"
     ]
    }
   ],
   "source": [
    "# 9. Display all unique user_scores\n",
    "unique_user_scores = vgame['User_Score'].unique()\n",
    "print(unique_user_scores)"
   ]
  },
  {
   "cell_type": "code",
   "execution_count": 17,
   "id": "e735c991-e54b-44da-901e-baa73872eddc",
   "metadata": {},
   "outputs": [
    {
     "name": "stdout",
     "output_type": "stream",
     "text": [
      "['Sports' 'Platform' 'Racing' 'Role-Playing' 'Puzzle' 'Misc' 'Shooter'\n",
      " 'Simulation' 'Action' 'Fighting' 'Adventure' 'Strategy' nan]\n"
     ]
    }
   ],
   "source": [
    "# 10. Display all types of Games\n",
    "types_of_games = vgame['Genre'].unique()\n",
    "print(types_of_games)"
   ]
  },
  {
   "cell_type": "code",
   "execution_count": 18,
   "id": "2346dde5-601d-45bc-b643-9f91b84353e6",
   "metadata": {},
   "outputs": [
    {
     "name": "stdout",
     "output_type": "stream",
     "text": [
      "Name               Wii Fit Plus\n",
      "Platform                    Wii\n",
      "Year_of_Release          2009.0\n",
      "Genre                    Sports\n",
      "Publisher              Nintendo\n",
      "NA_Sales                   9.01\n",
      "EU_Sales                   8.49\n",
      "JP_Sales                   2.53\n",
      "Other_Sales                1.77\n",
      "Global_Sales              21.79\n",
      "Critic_Score               80.0\n",
      "Critic_Count               33.0\n",
      "User_Score                  7.4\n",
      "User_Count                 52.0\n",
      "Developer              Nintendo\n",
      "Rating                        E\n",
      "Name: 15, dtype: object\n"
     ]
    }
   ],
   "source": [
    "# 11. Access row 15\n",
    "Access_rows = vgame.loc[15]\n",
    "print(Access_rows)"
   ]
  },
  {
   "cell_type": "code",
   "execution_count": 19,
   "id": "14ba120c-53a0-4ce1-b220-4a00bbef9f7a",
   "metadata": {},
   "outputs": [
    {
     "name": "stdout",
     "output_type": "stream",
     "text": [
      "       EU_Sales  Global_Sales  Critic_Score\n",
      "0         28.96         82.53          76.0\n",
      "1          3.58         40.24           NaN\n",
      "2         12.76         35.52          82.0\n",
      "3         10.93         32.77          80.0\n",
      "4          8.89         31.37           NaN\n",
      "...         ...           ...           ...\n",
      "16714      0.00          0.01           NaN\n",
      "16715      0.01          0.01           NaN\n",
      "16716      0.00          0.01           NaN\n",
      "16717      0.00          0.01           NaN\n",
      "16718      0.00          0.01           NaN\n",
      "\n",
      "[16719 rows x 3 columns]\n"
     ]
    }
   ],
   "source": [
    "# 12. Display EU_Sales,Global_Sales and Critic_Count of all games using iloc\n",
    "columns = vgame.iloc[:,[6,9,10]]\n",
    "print(columns)"
   ]
  },
  {
   "cell_type": "code",
   "execution_count": 20,
   "id": "ea0d6c0d-e89c-43b7-9432-5375ad8698c6",
   "metadata": {},
   "outputs": [
    {
     "name": "stdout",
     "output_type": "stream",
     "text": [
      "                                Name         Genre Developer\n",
      "0                         Wii Sports        Sports  Nintendo\n",
      "1                  Super Mario Bros.      Platform       NaN\n",
      "2                     Mario Kart Wii        Racing  Nintendo\n",
      "3                  Wii Sports Resort        Sports  Nintendo\n",
      "4           Pokemon Red/Pokemon Blue  Role-Playing       NaN\n",
      "...                              ...           ...       ...\n",
      "16714  Samurai Warriors: Sanada Maru        Action       NaN\n",
      "16715               LMA Manager 2007        Sports       NaN\n",
      "16716        Haitaka no Psychedelica     Adventure       NaN\n",
      "16717               Spirits & Spells      Platform       NaN\n",
      "16718            Winning Post 8 2016    Simulation       NaN\n",
      "\n",
      "[16719 rows x 3 columns]\n"
     ]
    }
   ],
   "source": [
    "# 13. Display the Name, Genre, and Developer of all games using loc\n",
    "name_gener_developer = vgame.loc[:,['Name','Genre','Developer']]\n",
    "print(name_gener_developer)"
   ]
  },
  {
   "cell_type": "code",
   "execution_count": 21,
   "id": "561097a1-b0a0-4bab-bef7-66e38810f5e3",
   "metadata": {},
   "outputs": [
    {
     "data": {
      "text/plain": [
       "Name                object\n",
       "Platform            object\n",
       "Year_of_Release    float64\n",
       "Genre               object\n",
       "Publisher           object\n",
       "NA_Sales           float64\n",
       "EU_Sales           float64\n",
       "JP_Sales           float64\n",
       "Other_Sales        float64\n",
       "Global_Sales       float64\n",
       "Critic_Score       float64\n",
       "Critic_Count       float64\n",
       "User_Score         float64\n",
       "User_Count         float64\n",
       "Developer           object\n",
       "Rating              object\n",
       "dtype: object"
      ]
     },
     "execution_count": 21,
     "metadata": {},
     "output_type": "execute_result"
    }
   ],
   "source": [
    "# 14. Change User_Score data type to float and display all columns data types\n",
    "vgame['User_Score'] = pd.to_numeric(vgame['User_Score'], errors='coerce')\n",
    "vgame.dtypes"
   ]
  },
  {
   "cell_type": "code",
   "execution_count": 22,
   "id": "111d1e78-f197-40b3-989b-5965c43ae93b",
   "metadata": {},
   "outputs": [
    {
     "name": "stdout",
     "output_type": "stream",
     "text": [
      "Developer\n",
      "10tacle Studios                          0.16\n",
      "10tacle Studios, Fusionsphere Systems    0.11\n",
      "1C, 1C Company                           0.03\n",
      "1C, Ino-Co, 1C Company                   0.05\n",
      "1C, Various, 1C Company                  0.01\n",
      "                                         ... \n",
      "odenis studio                            0.09\n",
      "oeFun                                    0.02\n",
      "puzzle.tv                                0.12\n",
      "syn Sophia                               3.31\n",
      "zSlide                                   0.03\n",
      "Name: Global_Sales, Length: 1696, dtype: float64\n"
     ]
    }
   ],
   "source": [
    "# 15. Which developer has made how much sales in USD gloabally\n",
    "usd_globally = vgame.groupby('Developer')['Global_Sales'].sum()\n",
    "print(usd_globally)"
   ]
  },
  {
   "cell_type": "code",
   "execution_count": 23,
   "id": "55cc4c4a-e5fc-472c-8bd6-3db3cddbdaea",
   "metadata": {},
   "outputs": [
    {
     "name": "stdout",
     "output_type": "stream",
     "text": [
      "                                    Name Platform  Year_of_Release      Genre  \\\n",
      "0                             Wii Sports      Wii           2006.0     Sports   \n",
      "2                         Mario Kart Wii      Wii           2008.0     Racing   \n",
      "3                      Wii Sports Resort      Wii           2009.0     Sports   \n",
      "6                  New Super Mario Bros.       DS           2006.0   Platform   \n",
      "7                               Wii Play      Wii           2006.0       Misc   \n",
      "...                                  ...      ...              ...        ...   \n",
      "16685                            Worms 2       PC           1997.0   Strategy   \n",
      "16696  Metal Gear Solid V: Ground Zeroes       PC           2014.0     Action   \n",
      "16700                             Breach       PC           2011.0    Shooter   \n",
      "16706            STORM: Frontline Nation       PC           2011.0   Strategy   \n",
      "16709                            15 Days       PC           2009.0  Adventure   \n",
      "\n",
      "                          Publisher  NA_Sales  EU_Sales  JP_Sales  \\\n",
      "0                          Nintendo     41.36     28.96      3.77   \n",
      "2                          Nintendo     15.68     12.76      3.79   \n",
      "3                          Nintendo     15.61     10.93      3.28   \n",
      "6                          Nintendo     11.28      9.14      6.50   \n",
      "7                          Nintendo     13.96      9.18      2.93   \n",
      "...                             ...       ...       ...       ...   \n",
      "16685                    Microprose      0.00      0.01      0.00   \n",
      "16696  Konami Digital Entertainment      0.00      0.01      0.00   \n",
      "16700                     Destineer      0.01      0.00      0.00   \n",
      "16706                       Unknown      0.00      0.01      0.00   \n",
      "16709             DTP Entertainment      0.00      0.01      0.00   \n",
      "\n",
      "       Other_Sales  Global_Sales  Critic_Score  Critic_Count  User_Score  \\\n",
      "0             8.45         82.53          76.0          51.0         8.0   \n",
      "2             3.29         35.52          82.0          73.0         8.3   \n",
      "3             2.95         32.77          80.0          73.0         8.0   \n",
      "6             2.88         29.80          89.0          65.0         8.5   \n",
      "7             2.84         28.92          58.0          41.0         6.6   \n",
      "...            ...           ...           ...           ...         ...   \n",
      "16685         0.00          0.01           NaN           NaN         8.1   \n",
      "16696         0.00          0.01          80.0          20.0         7.6   \n",
      "16700         0.00          0.01          61.0          12.0         5.8   \n",
      "16706         0.00          0.01          60.0          12.0         7.2   \n",
      "16709         0.00          0.01          63.0           6.0         5.8   \n",
      "\n",
      "       User_Count           Developer Rating  \n",
      "0           322.0            Nintendo      E  \n",
      "2           709.0            Nintendo      E  \n",
      "3           192.0            Nintendo      E  \n",
      "6           431.0            Nintendo      E  \n",
      "7           129.0            Nintendo      E  \n",
      "...           ...                 ...    ...  \n",
      "16685        12.0             Team 17    K-A  \n",
      "16696       412.0  Kojima Productions      M  \n",
      "16700        43.0        Atomic Games      T  \n",
      "16706        13.0              SimBin   E10+  \n",
      "16709         8.0   DTP Entertainment    NaN  \n",
      "\n",
      "[7590 rows x 16 columns]\n"
     ]
    }
   ],
   "source": [
    "# 16. Remove all null values from User_Score\n",
    "remove_null_values = vgame.dropna(subset=['User_Score'])\n",
    "print(remove_null_values)"
   ]
  },
  {
   "cell_type": "code",
   "execution_count": 24,
   "id": "ed1b524b-af02-45ff-b37c-d123d4fa6cfe",
   "metadata": {},
   "outputs": [
    {
     "data": {
      "image/png": "[encoded data removed]",
      "text/plain": [
       "<Figure size 800x500 with 1 Axes>"
      ]
     },
     "metadata": {},
     "output_type": "display_data"
    }
   ],
   "source": [
    "# 17. Plot the histogram chart with x=User_Score and y=Developer\n",
    "\n",
    "import matplotlib.pyplot as plt\n",
    "\n",
    "plt.figure(figsize=(8,5))\n",
    "plt.hist(vgame[\"User_Score\"], bins=15, color=\"purple\",edgecolor='white')\n",
    "plt.title(\"Distribution of User Scores Vs Developer\")\n",
    "plt.xlabel('User_Score')\n",
    "plt.ylabel('Developer')\n",
    "plt.title('Histogram of Global Sales')\n",
    "plt.show()"
   ]
  },
  {
   "cell_type": "code",
   "execution_count": 25,
   "id": "cabf323e-ce47-4517-bf76-9ec6754e71f8",
   "metadata": {},
   "outputs": [
    {
     "data": {
      "text/plain": [
       "array(['Wii Sports', 'Super Mario Bros.', 'Mario Kart Wii', ...,\n",
       "       'Woody Woodpecker in Crazy Castle 5', 'LMA Manager 2007',\n",
       "       'Haitaka no Psychedelica'], dtype=object)"
      ]
     },
     "execution_count": 25,
     "metadata": {},
     "output_type": "execute_result"
    }
   ],
   "source": [
    "#18. Display all video games\n",
    "all_video_games = vgame['Name'].unique()\n",
    "all_video_games"
   ]
  },
  {
   "cell_type": "code",
   "execution_count": 26,
   "id": "7aea5c35-cbde-4e56-90a3-a4bd2d6254f9",
   "metadata": {},
   "outputs": [
    {
     "name": "stdout",
     "output_type": "stream",
     "text": [
      "0        46.36\n",
      "1        34.08\n",
      "2        20.68\n",
      "3        20.61\n",
      "4        16.27\n",
      "         ...  \n",
      "16714     5.00\n",
      "16715     5.00\n",
      "16716     5.00\n",
      "16717     5.01\n",
      "16718     5.00\n",
      "Name: NA_Sales, Length: 16719, dtype: float64\n"
     ]
    }
   ],
   "source": [
    "#19. Update NA_Sales with + 5: (map with lambda)\n",
    "na_sales = vgame['NA_Sales'].map(lambda x : x + 5)\n",
    "print(na_sales)"
   ]
  },
  {
   "cell_type": "code",
   "execution_count": 27,
   "id": "cca436d3-d816-4f19-994d-dfbf73dad64c",
   "metadata": {},
   "outputs": [
    {
     "name": "stdout",
     "output_type": "stream",
     "text": [
      "Genre\n",
      "Action          3370\n",
      "Adventure       1303\n",
      "Fighting         849\n",
      "Misc            1750\n",
      "Platform         888\n",
      "Puzzle           580\n",
      "Racing          1249\n",
      "Role-Playing    1500\n",
      "Shooter         1323\n",
      "Simulation       874\n",
      "Sports          2348\n",
      "Strategy         683\n",
      "Name: Genre, dtype: int64\n"
     ]
    }
   ],
   "source": [
    "# 20. Display which Genre has how many games : all_games\n",
    "all_games = vgame.groupby('Genre').Genre.count()\n",
    "print(all_games)"
   ]
  },
  {
   "cell_type": "code",
   "execution_count": 28,
   "id": "ae8768cc-8fde-40d0-baa9-5ad1927e77c2",
   "metadata": {},
   "outputs": [
    {
     "data": {
      "image/png": "[encoded data removed]",
      "text/plain": [
       "<Figure size 1000x600 with 1 Axes>"
      ]
     },
     "metadata": {},
     "output_type": "display_data"
    }
   ],
   "source": [
    "# 21. Create a bar chart for all games.\n",
    "plt.figure(figsize=(10,6))\n",
    "all_games.plot(kind='bar', color=\"red\",edgecolor=\"black\")\n",
    "plt.xlabel('Genre')\n",
    "plt.ylabel('Number of Games')\n",
    "plt.title('Number of Games per Genre')\n",
    "plt.xticks(rotation=90)\n",
    "plt.show()"
   ]
  },
  {
   "cell_type": "code",
   "execution_count": 29,
   "id": "c785b6ba-d4e9-4126-93a2-1993339455c5",
   "metadata": {},
   "outputs": [
    {
     "data": {
      "text/plain": [
       "Developer\n",
       "Nintendo                   531.71\n",
       "EA Sports                  175.38\n",
       "EA Canada                  142.32\n",
       "Ubisoft                    132.54\n",
       "Rockstar North             119.47\n",
       "Capcom                     115.71\n",
       "Ubisoft Montreal           108.31\n",
       "Treyarch                   103.16\n",
       "EA Tiburon                  96.12\n",
       "Traveller's Tales           79.22\n",
       "Infinity Ward               77.62\n",
       "Visual Concepts             72.87\n",
       "Konami                      72.56\n",
       "Electronic Arts             66.26\n",
       "Polyphony Digital           65.20\n",
       "Namco                       63.11\n",
       "Neversoft Entertainment     61.27\n",
       "Vicarious Visions           56.98\n",
       "SquareSoft                  54.65\n",
       "Square Enix                 52.15\n",
       "Name: Global_Sales, dtype: float64"
      ]
     },
     "execution_count": 29,
     "metadata": {},
     "output_type": "execute_result"
    }
   ],
   "source": [
    "# 22. Which developer has most games sold:- top 20 developer.\n",
    "Top_20_Developers = usd_globally.sort_values(ascending=False).head(20)\n",
    "Top_20_Developers"
   ]
  },
  {
   "cell_type": "code",
   "execution_count": 30,
   "id": "7844919c-18b4-48ed-b77b-c480c0eb2d09",
   "metadata": {},
   "outputs": [
    {
     "data": {
      "image/png": "[encoded data removed]",
      "text/plain": [
       "<Figure size 1000x500 with 1 Axes>"
      ]
     },
     "metadata": {},
     "output_type": "display_data"
    }
   ],
   "source": [
    "# 23. Plot the bar chart for the above top 20 developers\n",
    "plt.figure(figsize=(10,5))\n",
    "Top_20_Developers.plot(kind='bar',color='green', edgecolor='black')\n",
    "plt.xlabel('Developer')\n",
    "plt.ylabel('Total Global Sales (in millions)')\n",
    "plt.title('Top 20 Developers by Global Sales')\n",
    "plt.xticks(rotation=90)\n",
    "plt.show()"
   ]
  },
  {
   "cell_type": "code",
   "execution_count": null,
   "id": "b496311d-b06d-42d2-b718-3be4d4fab77c",
   "metadata": {},
   "outputs": [],
   "source": []
  }
 ],
 "metadata": {
  "kernelspec": {
   "display_name": "base",
   "language": "python",
   "name": "python3"
  },
  "language_info": {
   "codemirror_mode": {
    "name": "ipython",
    "version": 3
   },
   "file_extension": ".py",
   "mimetype": "text/x-python",
   "name": "python",
   "nbconvert_exporter": "python",
   "pygments_lexer": "ipython3",
   "version": "3.12.7"
  }
 },
 "nbformat": 4,
 "nbformat_minor": 5
}
