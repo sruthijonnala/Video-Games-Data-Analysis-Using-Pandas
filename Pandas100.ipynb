{
 "cells": [
  {
   "cell_type": "markdown",
   "id": "67600ca3-7ab4-4783-916c-c1a5d79de319",
   "metadata": {},
   "source": [
    "Questions 1-49 are based on the Amazon Book Dataset. \n",
    "Questions 50-108 use artificial data on educational website, structured across six tables: \n",
    "Users, Courses, Ratings, Payments, Enrollments, and Refunds ! "
   ]
  },
  {
   "cell_type": "code",
   "execution_count": 2,
   "id": "715fbd13-11d0-4dad-9082-88dff4eb1382",
   "metadata": {},
   "outputs": [],
   "source": [
    "import pandas as pd\n",
    "import matplotlib.pyplot as plt\n",
    "import seaborn as sns\n",
    "from datetime import datetime, timedelta"
   ]
  },
  {
   "cell_type": "code",
   "execution_count": 3,
   "id": "22135631-b12a-4911-8e61-5494d18dfdc1",
   "metadata": {},
   "outputs": [
    {
     "data": {
      "text/html": [
       "<div>\n",
       "<style scoped>\n",
       "    .dataframe tbody tr th:only-of-type {\n",
       "        vertical-align: middle;\n",
       "    }\n",
       "\n",
       "    .dataframe tbody tr th {\n",
       "        vertical-align: top;\n",
       "    }\n",
       "\n",
       "    .dataframe thead th {\n",
       "        text-align: right;\n",
       "    }\n",
       "</style>\n",
       "<table border=\"1\" class=\"dataframe\">\n",
       "  <thead>\n",
       "    <tr style=\"text-align: right;\">\n",
       "      <th></th>\n",
       "      <th>Book Name</th>\n",
       "      <th>Author</th>\n",
       "      <th>Pages</th>\n",
       "      <th>Language</th>\n",
       "      <th>Ratings</th>\n",
       "      <th>Total Ratings</th>\n",
       "      <th>Price</th>\n",
       "      <th>Category</th>\n",
       "    </tr>\n",
       "  </thead>\n",
       "  <tbody>\n",
       "    <tr>\n",
       "      <th>0</th>\n",
       "      <td>11 Rules For Life: Secrets to Level Up</td>\n",
       "      <td>Chetan Bhagat</td>\n",
       "      <td>256.0</td>\n",
       "      <td>English</td>\n",
       "      <td>4.5</td>\n",
       "      <td>735</td>\n",
       "      <td>183</td>\n",
       "      <td>Self Improvement</td>\n",
       "    </tr>\n",
       "    <tr>\n",
       "      <th>1</th>\n",
       "      <td>1984 [Paperback] George Orwell</td>\n",
       "      <td>George Orwell</td>\n",
       "      <td>304.0</td>\n",
       "      <td>English</td>\n",
       "      <td>4.5</td>\n",
       "      <td>1,26,238</td>\n",
       "      <td>139</td>\n",
       "      <td>Literature</td>\n",
       "    </tr>\n",
       "    <tr>\n",
       "      <th>2</th>\n",
       "      <td>1984 [Paperback] George Orwell</td>\n",
       "      <td>George Orwell</td>\n",
       "      <td>304.0</td>\n",
       "      <td>English</td>\n",
       "      <td>4.5</td>\n",
       "      <td>1,26,238</td>\n",
       "      <td>139</td>\n",
       "      <td>Literature</td>\n",
       "    </tr>\n",
       "    <tr>\n",
       "      <th>3</th>\n",
       "      <td>21 Lessons for the 21st Century : 'Truly mind-...</td>\n",
       "      <td>Yuval Noah Harari</td>\n",
       "      <td>432.0</td>\n",
       "      <td>English</td>\n",
       "      <td>4.6</td>\n",
       "      <td>17,463</td>\n",
       "      <td>416</td>\n",
       "      <td>Self Improvement</td>\n",
       "    </tr>\n",
       "    <tr>\n",
       "      <th>4</th>\n",
       "      <td>21 Lessons for the 21st Century : 'Truly mind-...</td>\n",
       "      <td>Yuval Noah Harari</td>\n",
       "      <td>432.0</td>\n",
       "      <td>English</td>\n",
       "      <td>4.6</td>\n",
       "      <td>17,463</td>\n",
       "      <td>416</td>\n",
       "      <td>Self Improvement</td>\n",
       "    </tr>\n",
       "    <tr>\n",
       "      <th>...</th>\n",
       "      <td>...</td>\n",
       "      <td>...</td>\n",
       "      <td>...</td>\n",
       "      <td>...</td>\n",
       "      <td>...</td>\n",
       "      <td>...</td>\n",
       "      <td>...</td>\n",
       "      <td>...</td>\n",
       "    </tr>\n",
       "    <tr>\n",
       "      <th>315</th>\n",
       "      <td>You Can [Paperback] George Matthew Adams</td>\n",
       "      <td>George Matthew Adams</td>\n",
       "      <td>232.0</td>\n",
       "      <td>English</td>\n",
       "      <td>4.3</td>\n",
       "      <td>5,336</td>\n",
       "      <td>129</td>\n",
       "      <td>Self Improvement</td>\n",
       "    </tr>\n",
       "    <tr>\n",
       "      <th>316</th>\n",
       "      <td>You Can by George Matthew Adams – Tamil Transl...</td>\n",
       "      <td>George Matthew Adams</td>\n",
       "      <td>224.0</td>\n",
       "      <td>Tamil</td>\n",
       "      <td>4.2</td>\n",
       "      <td>37</td>\n",
       "      <td>129</td>\n",
       "      <td>Finance</td>\n",
       "    </tr>\n",
       "    <tr>\n",
       "      <th>317</th>\n",
       "      <td>You Got This: Art of Loving Yourself</td>\n",
       "      <td>Gianna Mago</td>\n",
       "      <td>128.0</td>\n",
       "      <td>English</td>\n",
       "      <td>4.6</td>\n",
       "      <td>16</td>\n",
       "      <td>205</td>\n",
       "      <td>Self Improvement</td>\n",
       "    </tr>\n",
       "    <tr>\n",
       "      <th>318</th>\n",
       "      <td>YOU WILL GET THROUGH THIS NIGHT NOTUS NO: The ...</td>\n",
       "      <td>DANIEL HOWELL</td>\n",
       "      <td>352.0</td>\n",
       "      <td>English</td>\n",
       "      <td>4.9</td>\n",
       "      <td>2,258</td>\n",
       "      <td>860</td>\n",
       "      <td>Religion and Spirtuality</td>\n",
       "    </tr>\n",
       "    <tr>\n",
       "      <th>319</th>\n",
       "      <td>Zero to One (L)</td>\n",
       "      <td>Peter Thiel</td>\n",
       "      <td>210.0</td>\n",
       "      <td>English</td>\n",
       "      <td>4.5</td>\n",
       "      <td>30,885</td>\n",
       "      <td>381</td>\n",
       "      <td>Finance</td>\n",
       "    </tr>\n",
       "  </tbody>\n",
       "</table>\n",
       "<p>320 rows × 8 columns</p>\n",
       "</div>"
      ],
      "text/plain": [
       "                                             Book Name                Author  \\\n",
       "0               11 Rules For Life: Secrets to Level Up         Chetan Bhagat   \n",
       "1                       1984 [Paperback] George Orwell         George Orwell   \n",
       "2                       1984 [Paperback] George Orwell         George Orwell   \n",
       "3    21 Lessons for the 21st Century : 'Truly mind-...     Yuval Noah Harari   \n",
       "4    21 Lessons for the 21st Century : 'Truly mind-...     Yuval Noah Harari   \n",
       "..                                                 ...                   ...   \n",
       "315           You Can [Paperback] George Matthew Adams  George Matthew Adams   \n",
       "316  You Can by George Matthew Adams – Tamil Transl...  George Matthew Adams   \n",
       "317               You Got This: Art of Loving Yourself           Gianna Mago   \n",
       "318  YOU WILL GET THROUGH THIS NIGHT NOTUS NO: The ...         DANIEL HOWELL   \n",
       "319                                    Zero to One (L)           Peter Thiel   \n",
       "\n",
       "     Pages Language  Ratings Total Ratings Price                  Category  \n",
       "0    256.0  English      4.5           735   183          Self Improvement  \n",
       "1    304.0  English      4.5      1,26,238   139                Literature  \n",
       "2    304.0  English      4.5      1,26,238   139                Literature  \n",
       "3    432.0  English      4.6        17,463   416          Self Improvement  \n",
       "4    432.0  English      4.6        17,463   416          Self Improvement  \n",
       "..     ...      ...      ...           ...   ...                       ...  \n",
       "315  232.0  English      4.3         5,336   129          Self Improvement  \n",
       "316  224.0    Tamil      4.2            37   129                   Finance  \n",
       "317  128.0  English      4.6            16   205          Self Improvement  \n",
       "318  352.0  English      4.9         2,258   860  Religion and Spirtuality  \n",
       "319  210.0  English      4.5        30,885   381                   Finance  \n",
       "\n",
       "[320 rows x 8 columns]"
      ]
     },
     "execution_count": 3,
     "metadata": {},
     "output_type": "execute_result"
    }
   ],
   "source": [
    "df = pd.read_csv(\"C:\\\\Users\\\\HP\\\\OneDrive\\\\Attachments\\\\Book_store.csv\")\n",
    "df"
   ]
  },
  {
   "cell_type": "markdown",
   "id": "f8bf70ac-0325-4f52-b577-f099b68fe37a",
   "metadata": {},
   "source": [
    "**1. Get the names of all the columns**"
   ]
  },
  {
   "cell_type": "code",
   "execution_count": 5,
   "id": "081d9d36-2fe3-4252-9fc9-f5d22c214f2d",
   "metadata": {},
   "outputs": [
    {
     "data": {
      "text/plain": [
       "Index(['Book Name', 'Author', 'Pages', 'Language', 'Ratings', 'Total Ratings',\n",
       "       'Price', 'Category'],\n",
       "      dtype='object')"
      ]
     },
     "execution_count": 5,
     "metadata": {},
     "output_type": "execute_result"
    }
   ],
   "source": [
    "df.columns"
   ]
  },
  {
   "cell_type": "markdown",
   "id": "c2b59dd8-6eba-4a91-991f-4189de416bfe",
   "metadata": {},
   "source": [
    "**2. Display the first 3 rows**"
   ]
  },
  {
   "cell_type": "code",
   "execution_count": 7,
   "id": "79f5d039-ac64-42b1-8986-6305d7f7b71e",
   "metadata": {},
   "outputs": [
    {
     "data": {
      "text/html": [
       "<div>\n",
       "<style scoped>\n",
       "    .dataframe tbody tr th:only-of-type {\n",
       "        vertical-align: middle;\n",
       "    }\n",
       "\n",
       "    .dataframe tbody tr th {\n",
       "        vertical-align: top;\n",
       "    }\n",
       "\n",
       "    .dataframe thead th {\n",
       "        text-align: right;\n",
       "    }\n",
       "</style>\n",
       "<table border=\"1\" class=\"dataframe\">\n",
       "  <thead>\n",
       "    <tr style=\"text-align: right;\">\n",
       "      <th></th>\n",
       "      <th>Book Name</th>\n",
       "      <th>Author</th>\n",
       "      <th>Pages</th>\n",
       "      <th>Language</th>\n",
       "      <th>Ratings</th>\n",
       "      <th>Total Ratings</th>\n",
       "      <th>Price</th>\n",
       "      <th>Category</th>\n",
       "    </tr>\n",
       "  </thead>\n",
       "  <tbody>\n",
       "    <tr>\n",
       "      <th>0</th>\n",
       "      <td>11 Rules For Life: Secrets to Level Up</td>\n",
       "      <td>Chetan Bhagat</td>\n",
       "      <td>256.0</td>\n",
       "      <td>English</td>\n",
       "      <td>4.5</td>\n",
       "      <td>735</td>\n",
       "      <td>183</td>\n",
       "      <td>Self Improvement</td>\n",
       "    </tr>\n",
       "    <tr>\n",
       "      <th>1</th>\n",
       "      <td>1984 [Paperback] George Orwell</td>\n",
       "      <td>George Orwell</td>\n",
       "      <td>304.0</td>\n",
       "      <td>English</td>\n",
       "      <td>4.5</td>\n",
       "      <td>1,26,238</td>\n",
       "      <td>139</td>\n",
       "      <td>Literature</td>\n",
       "    </tr>\n",
       "    <tr>\n",
       "      <th>2</th>\n",
       "      <td>1984 [Paperback] George Orwell</td>\n",
       "      <td>George Orwell</td>\n",
       "      <td>304.0</td>\n",
       "      <td>English</td>\n",
       "      <td>4.5</td>\n",
       "      <td>1,26,238</td>\n",
       "      <td>139</td>\n",
       "      <td>Literature</td>\n",
       "    </tr>\n",
       "  </tbody>\n",
       "</table>\n",
       "</div>"
      ],
      "text/plain": [
       "                                Book Name         Author  Pages Language  \\\n",
       "0  11 Rules For Life: Secrets to Level Up  Chetan Bhagat  256.0  English   \n",
       "1          1984 [Paperback] George Orwell  George Orwell  304.0  English   \n",
       "2          1984 [Paperback] George Orwell  George Orwell  304.0  English   \n",
       "\n",
       "   Ratings Total Ratings Price          Category  \n",
       "0      4.5           735   183  Self Improvement  \n",
       "1      4.5      1,26,238   139        Literature  \n",
       "2      4.5      1,26,238   139        Literature  "
      ]
     },
     "execution_count": 7,
     "metadata": {},
     "output_type": "execute_result"
    }
   ],
   "source": [
    "df.head(3)"
   ]
  },
  {
   "cell_type": "markdown",
   "id": "d9d6f724-daa3-4025-97b9-b392f155f7ef",
   "metadata": {},
   "source": [
    "**3. Display 4 random rows from the dataframe**"
   ]
  },
  {
   "cell_type": "code",
   "execution_count": 9,
   "id": "9669de75-b2ee-4aff-b547-1b3d938da467",
   "metadata": {},
   "outputs": [
    {
     "data": {
      "text/plain": [
       "(Book Name        21 Lessons for the 21st Century : 'Truly mind-...\n",
       " Author                                           Yuval Noah Harari\n",
       " Pages                                                        432.0\n",
       " Language                                                   English\n",
       " Ratings                                                        4.6\n",
       " Total Ratings                                               17,463\n",
       " Price                                                          416\n",
       " Category                                          Self Improvement\n",
       " Name: 4, dtype: object,\n",
       " [8],\n",
       " [10])"
      ]
     },
     "execution_count": 9,
     "metadata": {},
     "output_type": "execute_result"
    }
   ],
   "source": [
    "df.loc[4],[8],[10]"
   ]
  },
  {
   "cell_type": "markdown",
   "id": "05c97f48-294c-4d96-9e65-0d20fd7c423f",
   "metadata": {},
   "source": [
    "**4. What is the total number of rows in the dataset?**"
   ]
  },
  {
   "cell_type": "code",
   "execution_count": 11,
   "id": "94e15749-ae08-4ada-b917-075e9996d3d6",
   "metadata": {},
   "outputs": [
    {
     "data": {
      "text/plain": [
       "(320, 8)"
      ]
     },
     "execution_count": 11,
     "metadata": {},
     "output_type": "execute_result"
    }
   ],
   "source": [
    "total_rows = df.shape\n",
    "total_rows"
   ]
  },
  {
   "cell_type": "code",
   "execution_count": 12,
   "id": "7f8819d9-c9f0-40d0-b1e2-7becc50c958f",
   "metadata": {},
   "outputs": [],
   "source": [
    "## rename ratings to average_ratings"
   ]
  },
  {
   "cell_type": "code",
   "execution_count": 13,
   "id": "54084fe1-2f30-4fa1-8f3d-494fb1e97e01",
   "metadata": {},
   "outputs": [],
   "source": [
    "renaming = df.rename(columns = {'Ratings':'Average_Rating'},inplace =True)\n",
    "renaming"
   ]
  },
  {
   "cell_type": "markdown",
   "id": "5ef2d97d-e355-4c12-b470-76261022dbe9",
   "metadata": {},
   "source": [
    "**6. Check if there are any duplicate rows**"
   ]
  },
  {
   "cell_type": "code",
   "execution_count": 15,
   "id": "a0268eb9-c118-4951-ba3c-66b040471f06",
   "metadata": {},
   "outputs": [
    {
     "data": {
      "text/plain": [
       "0      False\n",
       "1      False\n",
       "2       True\n",
       "3      False\n",
       "4       True\n",
       "       ...  \n",
       "315     True\n",
       "316    False\n",
       "317    False\n",
       "318    False\n",
       "319    False\n",
       "Length: 320, dtype: bool"
      ]
     },
     "execution_count": 15,
     "metadata": {},
     "output_type": "execute_result"
    }
   ],
   "source": [
    "df.duplicated()"
   ]
  },
  {
   "cell_type": "markdown",
   "id": "90fa3da5-7c34-42f4-a94d-febe2ce68a0b",
   "metadata": {},
   "source": [
    "**7. Remove any duplicate rows**"
   ]
  },
  {
   "cell_type": "code",
   "execution_count": 17,
   "id": "ddd08ef5-8e56-400a-88c7-753b23992835",
   "metadata": {},
   "outputs": [],
   "source": [
    "remove_duplicates = df.drop_duplicates(inplace = True)\n",
    "remove_duplicates"
   ]
  },
  {
   "cell_type": "markdown",
   "id": "dc689580-0458-4730-a508-88e944e73c2f",
   "metadata": {},
   "source": [
    "**8. Remove rows where 'Average Rating' and 'Total Ratings' are missing**"
   ]
  },
  {
   "cell_type": "code",
   "execution_count": 19,
   "id": "1d6b7a9c-3307-4e28-82db-1864f7f86069",
   "metadata": {},
   "outputs": [],
   "source": [
    "df.dropna(subset = ['Average_Rating','Total Ratings'], inplace = True)"
   ]
  },
  {
   "cell_type": "code",
   "execution_count": 41,
   "id": "d3e4e8e9-8080-41a2-834c-ac9c4ae1d198",
   "metadata": {},
   "outputs": [
    {
     "data": {
      "text/plain": [
       "Book Name          0\n",
       "Author             0\n",
       "Pages              0\n",
       "Language           0\n",
       "Average_Rating     0\n",
       "Total Ratings      0\n",
       "Price             19\n",
       "Category           0\n",
       "dtype: int64"
      ]
     },
     "execution_count": 41,
     "metadata": {},
     "output_type": "execute_result"
    }
   ],
   "source": [
    "#removve = df.dropna(subset = ['Ratings'])\n",
    "df.isnull().sum()\n"
   ]
  },
  {
   "cell_type": "markdown",
   "id": "540c2eb2-3b27-464f-959e-a0fc75478b55",
   "metadata": {},
   "source": [
    "**9. Check the datatype of all the columns**"
   ]
  },
  {
   "cell_type": "code",
   "execution_count": 43,
   "id": "f3c0589e-6263-465b-b4bc-24ad837a7a8f",
   "metadata": {},
   "outputs": [
    {
     "data": {
      "text/plain": [
       "Book Name          object\n",
       "Author             object\n",
       "Pages               int32\n",
       "Language           object\n",
       "Average_Rating    float64\n",
       "Total Ratings      object\n",
       "Price              object\n",
       "Category           object\n",
       "dtype: object"
      ]
     },
     "execution_count": 43,
     "metadata": {},
     "output_type": "execute_result"
    }
   ],
   "source": [
    "df.dtypes"
   ]
  },
  {
   "cell_type": "markdown",
   "id": "d28493fc-8ff9-4b4b-b841-8fb43c6d5866",
   "metadata": {},
   "source": [
    "**10. Remove comma from values in Price column and change the type to float64**"
   ]
  },
  {
   "cell_type": "code",
   "execution_count": 45,
   "id": "ca8950a7-ea83-44c8-a934-ff6dab17e828",
   "metadata": {},
   "outputs": [
    {
     "data": {
      "text/plain": [
       "Book Name          object\n",
       "Author             object\n",
       "Pages               int32\n",
       "Language           object\n",
       "Average_Rating    float64\n",
       "Total Ratings      object\n",
       "Price              object\n",
       "Category           object\n",
       "dtype: object"
      ]
     },
     "execution_count": 45,
     "metadata": {},
     "output_type": "execute_result"
    }
   ],
   "source": [
    "#df['Price'] = df['Price'].str.replace(',','',regex =True).astype(float)\n",
    "#df['Price']\n",
    "#df['Price'] = pd.to_numeric(df['Price'],errors = 'coerce')\n",
    "df.dtypes"
   ]
  },
  {
   "cell_type": "markdown",
   "id": "735b91b5-0b96-4940-b994-29062feb63e0",
   "metadata": {},
   "source": [
    "**11. Remove comma from values in Total Ratings column and change the type to int64**"
   ]
  },
  {
   "cell_type": "code",
   "execution_count": 26,
   "id": "aeefe1d2-c400-4ac1-b00e-312280b8129f",
   "metadata": {},
   "outputs": [
    {
     "data": {
      "text/plain": [
       "0         735\n",
       "1      126238\n",
       "3       17463\n",
       "5        3391\n",
       "7        2536\n",
       "        ...  \n",
       "314      5336\n",
       "316        37\n",
       "317        16\n",
       "318      2258\n",
       "319     30885\n",
       "Name: Total Ratings, Length: 239, dtype: object"
      ]
     },
     "execution_count": 26,
     "metadata": {},
     "output_type": "execute_result"
    }
   ],
   "source": [
    "df['Total Ratings'] = df['Total Ratings'].str.replace(',','',regex = True)\n",
    "df['Total Ratings']\n"
   ]
  },
  {
   "cell_type": "markdown",
   "id": "34b2edc1-07e2-4592-91e8-1f4314471adf",
   "metadata": {},
   "source": [
    "**12. Check how many missing values are there in all columns**"
   ]
  },
  {
   "cell_type": "code",
   "execution_count": 28,
   "id": "c05dc4b2-662b-41d3-9cf9-9406543b0207",
   "metadata": {},
   "outputs": [
    {
     "data": {
      "text/plain": [
       "Book Name          0\n",
       "Author             2\n",
       "Pages             24\n",
       "Language           5\n",
       "Average_Rating     0\n",
       "Total Ratings      0\n",
       "Price             19\n",
       "Category           0\n",
       "dtype: int64"
      ]
     },
     "execution_count": 28,
     "metadata": {},
     "output_type": "execute_result"
    }
   ],
   "source": [
    "df.isnull().sum()"
   ]
  },
  {
   "cell_type": "markdown",
   "id": "28474aba-3afb-48f8-8598-accac915d9b0",
   "metadata": {},
   "source": [
    "**13. Replace missing values in Author column with 'Unknown'**"
   ]
  },
  {
   "cell_type": "code",
   "execution_count": 30,
   "id": "237f821d-1810-40ed-b30e-63ebf87cdf6d",
   "metadata": {},
   "outputs": [],
   "source": [
    "df['Author']= df['Author'].fillna('Unknown')"
   ]
  },
  {
   "cell_type": "markdown",
   "id": "de678655-4477-4a65-bcc1-a69944c34704",
   "metadata": {},
   "source": [
    "**14. Replace missing values in Language column with the most occuring langauge**"
   ]
  },
  {
   "cell_type": "code",
   "execution_count": 32,
   "id": "6ab1c707-0608-4ce3-9634-55163fd985b7",
   "metadata": {},
   "outputs": [],
   "source": [
    "#df[df['Language'].isnull()]\n",
    "df['Language'] = df['Language'].fillna(df['Language'].mode()[0])\n"
   ]
  },
  {
   "cell_type": "markdown",
   "id": "3bd9f5a7-51a9-4873-bd6d-6c5edcbbabad",
   "metadata": {},
   "source": [
    "**15. Replace missing values in Pages column with median and convert data of Pages column type to int64**"
   ]
  },
  {
   "cell_type": "code",
   "execution_count": 34,
   "id": "d91dcc64-7d63-4df7-96ec-4ea64c6019bd",
   "metadata": {},
   "outputs": [],
   "source": [
    "df['Pages'] = df['Pages'].fillna(df['Pages'].median()).astype(int)\n",
    "#df[df['Pages'].isnull()]\n",
    "#df.isnull().sum()\n"
   ]
  },
  {
   "cell_type": "markdown",
   "id": "00b1bb53-2355-42be-906c-d05a5e76ead7",
   "metadata": {},
   "source": [
    "**16. Fill missing values for price with the median price of the same category**"
   ]
  },
  {
   "cell_type": "code",
   "execution_count": 36,
   "id": "42a8acc2-92b0-436c-a85e-16d1ae3c5f5e",
   "metadata": {},
   "outputs": [
    {
     "ename": "TypeError",
     "evalue": "Cannot convert ['183' '139' '274' '159' '662' '499' '286' '199' nan nan '199' '215' '125'\n '239' '1,949' '253' '209' '532' nan '153' '635' '393' '139' '259' '111'\n '257' '267' '209' '103' '264' '1,490' '499' '619' '449' '149' '169' '138'\n nan '267' '149' nan '1,155' '260' '149' '129' '381'] to numeric",
     "output_type": "error",
     "traceback": [
      "\u001b[1;31m---------------------------------------------------------------------------\u001b[0m",
      "\u001b[1;31mTypeError\u001b[0m                                 Traceback (most recent call last)",
      "Cell \u001b[1;32mIn[36], line 3\u001b[0m\n\u001b[0;32m      1\u001b[0m \u001b[38;5;66;03m#df['Price'] = pd.to_numeric(df['Price'],errors ='coerce')\u001b[39;00m\n\u001b[0;32m      2\u001b[0m \u001b[38;5;66;03m#df.dtypes\u001b[39;00m\n\u001b[1;32m----> 3\u001b[0m df[\u001b[38;5;124m'\u001b[39m\u001b[38;5;124mPrice\u001b[39m\u001b[38;5;124m'\u001b[39m] \u001b[38;5;241m=\u001b[39m df\u001b[38;5;241m.\u001b[39mgroupby(\u001b[38;5;124m'\u001b[39m\u001b[38;5;124mCategory\u001b[39m\u001b[38;5;124m'\u001b[39m)[\u001b[38;5;124m'\u001b[39m\u001b[38;5;124mPrice\u001b[39m\u001b[38;5;124m'\u001b[39m]\u001b[38;5;241m.\u001b[39mtransform(\u001b[38;5;28;01mlambda\u001b[39;00m x : x\u001b[38;5;241m.\u001b[39mfillna(x\u001b[38;5;241m.\u001b[39mmedian()))\n",
      "File \u001b[1;32m~\\anaconda3\\Lib\\site-packages\\pandas\\core\\groupby\\generic.py:517\u001b[0m, in \u001b[0;36mSeriesGroupBy.transform\u001b[1;34m(self, func, engine, engine_kwargs, *args, **kwargs)\u001b[0m\n\u001b[0;32m    514\u001b[0m \u001b[38;5;129m@Substitution\u001b[39m(klass\u001b[38;5;241m=\u001b[39m\u001b[38;5;124m\"\u001b[39m\u001b[38;5;124mSeries\u001b[39m\u001b[38;5;124m\"\u001b[39m, example\u001b[38;5;241m=\u001b[39m__examples_series_doc)\n\u001b[0;32m    515\u001b[0m \u001b[38;5;129m@Appender\u001b[39m(_transform_template)\n\u001b[0;32m    516\u001b[0m \u001b[38;5;28;01mdef\u001b[39;00m \u001b[38;5;21mtransform\u001b[39m(\u001b[38;5;28mself\u001b[39m, func, \u001b[38;5;241m*\u001b[39margs, engine\u001b[38;5;241m=\u001b[39m\u001b[38;5;28;01mNone\u001b[39;00m, engine_kwargs\u001b[38;5;241m=\u001b[39m\u001b[38;5;28;01mNone\u001b[39;00m, \u001b[38;5;241m*\u001b[39m\u001b[38;5;241m*\u001b[39mkwargs):\n\u001b[1;32m--> 517\u001b[0m     \u001b[38;5;28;01mreturn\u001b[39;00m \u001b[38;5;28mself\u001b[39m\u001b[38;5;241m.\u001b[39m_transform(\n\u001b[0;32m    518\u001b[0m         func, \u001b[38;5;241m*\u001b[39margs, engine\u001b[38;5;241m=\u001b[39mengine, engine_kwargs\u001b[38;5;241m=\u001b[39mengine_kwargs, \u001b[38;5;241m*\u001b[39m\u001b[38;5;241m*\u001b[39mkwargs\n\u001b[0;32m    519\u001b[0m     )\n",
      "File \u001b[1;32m~\\anaconda3\\Lib\\site-packages\\pandas\\core\\groupby\\groupby.py:2021\u001b[0m, in \u001b[0;36mGroupBy._transform\u001b[1;34m(self, func, engine, engine_kwargs, *args, **kwargs)\u001b[0m\n\u001b[0;32m   2018\u001b[0m     warn_alias_replacement(\u001b[38;5;28mself\u001b[39m, orig_func, func)\n\u001b[0;32m   2020\u001b[0m \u001b[38;5;28;01mif\u001b[39;00m \u001b[38;5;129;01mnot\u001b[39;00m \u001b[38;5;28misinstance\u001b[39m(func, \u001b[38;5;28mstr\u001b[39m):\n\u001b[1;32m-> 2021\u001b[0m     \u001b[38;5;28;01mreturn\u001b[39;00m \u001b[38;5;28mself\u001b[39m\u001b[38;5;241m.\u001b[39m_transform_general(func, engine, engine_kwargs, \u001b[38;5;241m*\u001b[39margs, \u001b[38;5;241m*\u001b[39m\u001b[38;5;241m*\u001b[39mkwargs)\n\u001b[0;32m   2023\u001b[0m \u001b[38;5;28;01melif\u001b[39;00m func \u001b[38;5;129;01mnot\u001b[39;00m \u001b[38;5;129;01min\u001b[39;00m base\u001b[38;5;241m.\u001b[39mtransform_kernel_allowlist:\n\u001b[0;32m   2024\u001b[0m     msg \u001b[38;5;241m=\u001b[39m \u001b[38;5;124mf\u001b[39m\u001b[38;5;124m\"\u001b[39m\u001b[38;5;124m'\u001b[39m\u001b[38;5;132;01m{\u001b[39;00mfunc\u001b[38;5;132;01m}\u001b[39;00m\u001b[38;5;124m'\u001b[39m\u001b[38;5;124m is not a valid function name for transform(name)\u001b[39m\u001b[38;5;124m\"\u001b[39m\n",
      "File \u001b[1;32m~\\anaconda3\\Lib\\site-packages\\pandas\\core\\groupby\\generic.py:557\u001b[0m, in \u001b[0;36mSeriesGroupBy._transform_general\u001b[1;34m(self, func, engine, engine_kwargs, *args, **kwargs)\u001b[0m\n\u001b[0;32m    552\u001b[0m \u001b[38;5;28;01mfor\u001b[39;00m name, group \u001b[38;5;129;01min\u001b[39;00m \u001b[38;5;28mself\u001b[39m\u001b[38;5;241m.\u001b[39m_grouper\u001b[38;5;241m.\u001b[39mget_iterator(\n\u001b[0;32m    553\u001b[0m     \u001b[38;5;28mself\u001b[39m\u001b[38;5;241m.\u001b[39m_obj_with_exclusions, axis\u001b[38;5;241m=\u001b[39m\u001b[38;5;28mself\u001b[39m\u001b[38;5;241m.\u001b[39maxis\n\u001b[0;32m    554\u001b[0m ):\n\u001b[0;32m    555\u001b[0m     \u001b[38;5;66;03m# this setattr is needed for test_transform_lambda_with_datetimetz\u001b[39;00m\n\u001b[0;32m    556\u001b[0m     \u001b[38;5;28mobject\u001b[39m\u001b[38;5;241m.\u001b[39m\u001b[38;5;21m__setattr__\u001b[39m(group, \u001b[38;5;124m\"\u001b[39m\u001b[38;5;124mname\u001b[39m\u001b[38;5;124m\"\u001b[39m, name)\n\u001b[1;32m--> 557\u001b[0m     res \u001b[38;5;241m=\u001b[39m func(group, \u001b[38;5;241m*\u001b[39margs, \u001b[38;5;241m*\u001b[39m\u001b[38;5;241m*\u001b[39mkwargs)\n\u001b[0;32m    559\u001b[0m     results\u001b[38;5;241m.\u001b[39mappend(klass(res, index\u001b[38;5;241m=\u001b[39mgroup\u001b[38;5;241m.\u001b[39mindex))\n\u001b[0;32m    561\u001b[0m \u001b[38;5;66;03m# check for empty \"results\" to avoid concat ValueError\u001b[39;00m\n",
      "Cell \u001b[1;32mIn[36], line 3\u001b[0m, in \u001b[0;36m<lambda>\u001b[1;34m(x)\u001b[0m\n\u001b[0;32m      1\u001b[0m \u001b[38;5;66;03m#df['Price'] = pd.to_numeric(df['Price'],errors ='coerce')\u001b[39;00m\n\u001b[0;32m      2\u001b[0m \u001b[38;5;66;03m#df.dtypes\u001b[39;00m\n\u001b[1;32m----> 3\u001b[0m df[\u001b[38;5;124m'\u001b[39m\u001b[38;5;124mPrice\u001b[39m\u001b[38;5;124m'\u001b[39m] \u001b[38;5;241m=\u001b[39m df\u001b[38;5;241m.\u001b[39mgroupby(\u001b[38;5;124m'\u001b[39m\u001b[38;5;124mCategory\u001b[39m\u001b[38;5;124m'\u001b[39m)[\u001b[38;5;124m'\u001b[39m\u001b[38;5;124mPrice\u001b[39m\u001b[38;5;124m'\u001b[39m]\u001b[38;5;241m.\u001b[39mtransform(\u001b[38;5;28;01mlambda\u001b[39;00m x : x\u001b[38;5;241m.\u001b[39mfillna(x\u001b[38;5;241m.\u001b[39mmedian()))\n",
      "File \u001b[1;32m~\\anaconda3\\Lib\\site-packages\\pandas\\core\\series.py:6559\u001b[0m, in \u001b[0;36mSeries.median\u001b[1;34m(self, axis, skipna, numeric_only, **kwargs)\u001b[0m\n\u001b[0;32m   6551\u001b[0m \u001b[38;5;129m@doc\u001b[39m(make_doc(\u001b[38;5;124m\"\u001b[39m\u001b[38;5;124mmedian\u001b[39m\u001b[38;5;124m\"\u001b[39m, ndim\u001b[38;5;241m=\u001b[39m\u001b[38;5;241m1\u001b[39m))\n\u001b[0;32m   6552\u001b[0m \u001b[38;5;28;01mdef\u001b[39;00m \u001b[38;5;21mmedian\u001b[39m(\n\u001b[0;32m   6553\u001b[0m     \u001b[38;5;28mself\u001b[39m,\n\u001b[1;32m   (...)\u001b[0m\n\u001b[0;32m   6557\u001b[0m     \u001b[38;5;241m*\u001b[39m\u001b[38;5;241m*\u001b[39mkwargs,\n\u001b[0;32m   6558\u001b[0m ):\n\u001b[1;32m-> 6559\u001b[0m     \u001b[38;5;28;01mreturn\u001b[39;00m NDFrame\u001b[38;5;241m.\u001b[39mmedian(\u001b[38;5;28mself\u001b[39m, axis, skipna, numeric_only, \u001b[38;5;241m*\u001b[39m\u001b[38;5;241m*\u001b[39mkwargs)\n",
      "File \u001b[1;32m~\\anaconda3\\Lib\\site-packages\\pandas\\core\\generic.py:12431\u001b[0m, in \u001b[0;36mNDFrame.median\u001b[1;34m(self, axis, skipna, numeric_only, **kwargs)\u001b[0m\n\u001b[0;32m  12424\u001b[0m \u001b[38;5;28;01mdef\u001b[39;00m \u001b[38;5;21mmedian\u001b[39m(\n\u001b[0;32m  12425\u001b[0m     \u001b[38;5;28mself\u001b[39m,\n\u001b[0;32m  12426\u001b[0m     axis: Axis \u001b[38;5;241m|\u001b[39m \u001b[38;5;28;01mNone\u001b[39;00m \u001b[38;5;241m=\u001b[39m \u001b[38;5;241m0\u001b[39m,\n\u001b[1;32m   (...)\u001b[0m\n\u001b[0;32m  12429\u001b[0m     \u001b[38;5;241m*\u001b[39m\u001b[38;5;241m*\u001b[39mkwargs,\n\u001b[0;32m  12430\u001b[0m ) \u001b[38;5;241m-\u001b[39m\u001b[38;5;241m>\u001b[39m Series \u001b[38;5;241m|\u001b[39m \u001b[38;5;28mfloat\u001b[39m:\n\u001b[1;32m> 12431\u001b[0m     \u001b[38;5;28;01mreturn\u001b[39;00m \u001b[38;5;28mself\u001b[39m\u001b[38;5;241m.\u001b[39m_stat_function(\n\u001b[0;32m  12432\u001b[0m         \u001b[38;5;124m\"\u001b[39m\u001b[38;5;124mmedian\u001b[39m\u001b[38;5;124m\"\u001b[39m, nanops\u001b[38;5;241m.\u001b[39mnanmedian, axis, skipna, numeric_only, \u001b[38;5;241m*\u001b[39m\u001b[38;5;241m*\u001b[39mkwargs\n\u001b[0;32m  12433\u001b[0m     )\n",
      "File \u001b[1;32m~\\anaconda3\\Lib\\site-packages\\pandas\\core\\generic.py:12377\u001b[0m, in \u001b[0;36mNDFrame._stat_function\u001b[1;34m(self, name, func, axis, skipna, numeric_only, **kwargs)\u001b[0m\n\u001b[0;32m  12373\u001b[0m nv\u001b[38;5;241m.\u001b[39mvalidate_func(name, (), kwargs)\n\u001b[0;32m  12375\u001b[0m validate_bool_kwarg(skipna, \u001b[38;5;124m\"\u001b[39m\u001b[38;5;124mskipna\u001b[39m\u001b[38;5;124m\"\u001b[39m, none_allowed\u001b[38;5;241m=\u001b[39m\u001b[38;5;28;01mFalse\u001b[39;00m)\n\u001b[1;32m> 12377\u001b[0m \u001b[38;5;28;01mreturn\u001b[39;00m \u001b[38;5;28mself\u001b[39m\u001b[38;5;241m.\u001b[39m_reduce(\n\u001b[0;32m  12378\u001b[0m     func, name\u001b[38;5;241m=\u001b[39mname, axis\u001b[38;5;241m=\u001b[39maxis, skipna\u001b[38;5;241m=\u001b[39mskipna, numeric_only\u001b[38;5;241m=\u001b[39mnumeric_only\n\u001b[0;32m  12379\u001b[0m )\n",
      "File \u001b[1;32m~\\anaconda3\\Lib\\site-packages\\pandas\\core\\series.py:6457\u001b[0m, in \u001b[0;36mSeries._reduce\u001b[1;34m(self, op, name, axis, skipna, numeric_only, filter_type, **kwds)\u001b[0m\n\u001b[0;32m   6452\u001b[0m     \u001b[38;5;66;03m# GH#47500 - change to TypeError to match other methods\u001b[39;00m\n\u001b[0;32m   6453\u001b[0m     \u001b[38;5;28;01mraise\u001b[39;00m \u001b[38;5;167;01mTypeError\u001b[39;00m(\n\u001b[0;32m   6454\u001b[0m         \u001b[38;5;124mf\u001b[39m\u001b[38;5;124m\"\u001b[39m\u001b[38;5;124mSeries.\u001b[39m\u001b[38;5;132;01m{\u001b[39;00mname\u001b[38;5;132;01m}\u001b[39;00m\u001b[38;5;124m does not allow \u001b[39m\u001b[38;5;132;01m{\u001b[39;00mkwd_name\u001b[38;5;132;01m}\u001b[39;00m\u001b[38;5;124m=\u001b[39m\u001b[38;5;132;01m{\u001b[39;00mnumeric_only\u001b[38;5;132;01m}\u001b[39;00m\u001b[38;5;124m \u001b[39m\u001b[38;5;124m\"\u001b[39m\n\u001b[0;32m   6455\u001b[0m         \u001b[38;5;124m\"\u001b[39m\u001b[38;5;124mwith non-numeric dtypes.\u001b[39m\u001b[38;5;124m\"\u001b[39m\n\u001b[0;32m   6456\u001b[0m     )\n\u001b[1;32m-> 6457\u001b[0m \u001b[38;5;28;01mreturn\u001b[39;00m op(delegate, skipna\u001b[38;5;241m=\u001b[39mskipna, \u001b[38;5;241m*\u001b[39m\u001b[38;5;241m*\u001b[39mkwds)\n",
      "File \u001b[1;32m~\\anaconda3\\Lib\\site-packages\\pandas\\core\\nanops.py:147\u001b[0m, in \u001b[0;36mbottleneck_switch.__call__.<locals>.f\u001b[1;34m(values, axis, skipna, **kwds)\u001b[0m\n\u001b[0;32m    145\u001b[0m         result \u001b[38;5;241m=\u001b[39m alt(values, axis\u001b[38;5;241m=\u001b[39maxis, skipna\u001b[38;5;241m=\u001b[39mskipna, \u001b[38;5;241m*\u001b[39m\u001b[38;5;241m*\u001b[39mkwds)\n\u001b[0;32m    146\u001b[0m \u001b[38;5;28;01melse\u001b[39;00m:\n\u001b[1;32m--> 147\u001b[0m     result \u001b[38;5;241m=\u001b[39m alt(values, axis\u001b[38;5;241m=\u001b[39maxis, skipna\u001b[38;5;241m=\u001b[39mskipna, \u001b[38;5;241m*\u001b[39m\u001b[38;5;241m*\u001b[39mkwds)\n\u001b[0;32m    149\u001b[0m \u001b[38;5;28;01mreturn\u001b[39;00m result\n",
      "File \u001b[1;32m~\\anaconda3\\Lib\\site-packages\\pandas\\core\\nanops.py:787\u001b[0m, in \u001b[0;36mnanmedian\u001b[1;34m(values, axis, skipna, mask)\u001b[0m\n\u001b[0;32m    785\u001b[0m     inferred \u001b[38;5;241m=\u001b[39m lib\u001b[38;5;241m.\u001b[39minfer_dtype(values)\n\u001b[0;32m    786\u001b[0m     \u001b[38;5;28;01mif\u001b[39;00m inferred \u001b[38;5;129;01min\u001b[39;00m [\u001b[38;5;124m\"\u001b[39m\u001b[38;5;124mstring\u001b[39m\u001b[38;5;124m\"\u001b[39m, \u001b[38;5;124m\"\u001b[39m\u001b[38;5;124mmixed\u001b[39m\u001b[38;5;124m\"\u001b[39m]:\n\u001b[1;32m--> 787\u001b[0m         \u001b[38;5;28;01mraise\u001b[39;00m \u001b[38;5;167;01mTypeError\u001b[39;00m(\u001b[38;5;124mf\u001b[39m\u001b[38;5;124m\"\u001b[39m\u001b[38;5;124mCannot convert \u001b[39m\u001b[38;5;132;01m{\u001b[39;00mvalues\u001b[38;5;132;01m}\u001b[39;00m\u001b[38;5;124m to numeric\u001b[39m\u001b[38;5;124m\"\u001b[39m)\n\u001b[0;32m    788\u001b[0m \u001b[38;5;28;01mtry\u001b[39;00m:\n\u001b[0;32m    789\u001b[0m     values \u001b[38;5;241m=\u001b[39m values\u001b[38;5;241m.\u001b[39mastype(\u001b[38;5;124m\"\u001b[39m\u001b[38;5;124mf8\u001b[39m\u001b[38;5;124m\"\u001b[39m)\n",
      "\u001b[1;31mTypeError\u001b[0m: Cannot convert ['183' '139' '274' '159' '662' '499' '286' '199' nan nan '199' '215' '125'\n '239' '1,949' '253' '209' '532' nan '153' '635' '393' '139' '259' '111'\n '257' '267' '209' '103' '264' '1,490' '499' '619' '449' '149' '169' '138'\n nan '267' '149' nan '1,155' '260' '149' '129' '381'] to numeric"
     ]
    }
   ],
   "source": [
    "\n",
    "#df['Price'] = pd.to_numeric(df['Price'],errors ='coerce')\n",
    "#df.dtypes\n",
    "df['Price'] = df.groupby('Category')['Price'].transform(lambda x : x.fillna(x.median()))"
   ]
  },
  {
   "cell_type": "markdown",
   "id": "aee5e849-a29a-41d2-b737-022d27f28a48",
   "metadata": {},
   "source": [
    "**17. How many unique authors are listed?**"
   ]
  },
  {
   "cell_type": "code",
   "execution_count": null,
   "id": "77ff72f4-314a-421a-9bb9-14ba1ef2a479",
   "metadata": {},
   "outputs": [],
   "source": [
    "unique_Author = df['Author'].unique()\n",
    "unique_Author"
   ]
  },
  {
   "cell_type": "markdown",
   "id": "e86db07d-c98a-4a56-bbf3-63ba83640796",
   "metadata": {},
   "source": [
    "**18. What are the top 5 most expensive books?**"
   ]
  },
  {
   "cell_type": "code",
   "execution_count": null,
   "id": "40c572e6-5950-4aa6-8353-a116349754bb",
   "metadata": {},
   "outputs": [],
   "source": [
    "#df.sort_values('Price',ascending = False).head(5)\n",
    "df.nlargest(5,'Price')['Book Name']"
   ]
  },
  {
   "cell_type": "markdown",
   "id": "14ca6dfd-6c6c-4338-a61a-cc4b2307df6b",
   "metadata": {},
   "source": [
    "**19. What are the 5 shortest books (based on the number of pages)?**  \n"
   ]
  },
  {
   "cell_type": "code",
   "execution_count": null,
   "id": "b790dc2b-abb1-4260-8959-65a12e03e75e",
   "metadata": {},
   "outputs": [],
   "source": [
    "df.nsmallest(5, 'Pages')[['Book Name','Pages']]"
   ]
  },
  {
   "cell_type": "markdown",
   "id": "25896e4f-339c-46f9-ad05-f0ac04d35f67",
   "metadata": {},
   "source": [
    "**20. What is the average number of pages across all books?**\n"
   ]
  },
  {
   "cell_type": "code",
   "execution_count": null,
   "id": "45aa0461-822d-4fa3-8a8c-196bbd19b69b",
   "metadata": {},
   "outputs": [],
   "source": [
    "df['Pages'].mean()"
   ]
  },
  {
   "cell_type": "markdown",
   "id": "03a6a6cb-c9e8-41df-a609-df1db0a94e5a",
   "metadata": {},
   "source": [
    "**21. Display the summary statistics for numeric columns**\n",
    "\n"
   ]
  },
  {
   "cell_type": "code",
   "execution_count": null,
   "id": "3a6cbcdc-fa4d-48a2-8118-cca557cedd04",
   "metadata": {},
   "outputs": [],
   "source": [
    "df.describe()"
   ]
  },
  {
   "cell_type": "markdown",
   "id": "4ad5b9f4-4b0c-41b5-b372-47f19735c37f",
   "metadata": {},
   "source": [
    "**22. Find the unique values and their counts for the column 'Category', sort by category names**"
   ]
  },
  {
   "cell_type": "code",
   "execution_count": null,
   "id": "de809e5e-d8b8-4458-88e2-6a1008911786",
   "metadata": {},
   "outputs": [],
   "source": [
    "df.groupby('Category').count().sort_values('Category')"
   ]
  },
  {
   "cell_type": "markdown",
   "id": "7f96292c-9e45-41f3-9af0-67cc02288085",
   "metadata": {},
   "source": [
    "**23. What are the top 5 languages with the most books listed?**\n"
   ]
  },
  {
   "cell_type": "code",
   "execution_count": null,
   "id": "399d082f-26fe-4cf9-9b86-936d0284bdfc",
   "metadata": {},
   "outputs": [],
   "source": [
    "df.groupby('Language').count().nlargest(5, 'Book Name')"
   ]
  },
  {
   "cell_type": "markdown",
   "id": "3c019b62-b6be-4b65-ae91-77fbd8b4a45c",
   "metadata": {},
   "source": [
    "**24. What percentage of books have ratings greater than or equal to 4 stars?**"
   ]
  },
  {
   "cell_type": "code",
   "execution_count": null,
   "id": "0478e8c9-80e7-4be3-ae91-c490a7e09f43",
   "metadata": {},
   "outputs": [],
   "source": [
    "df.groupby('Total Ratings')"
   ]
  },
  {
   "cell_type": "markdown",
   "id": "a98ce2d4-f53d-4c31-a462-2f5d00979614",
   "metadata": {},
   "source": [
    "**25. What is the average price of books and average number of pages across different languages?**"
   ]
  },
  {
   "cell_type": "code",
   "execution_count": null,
   "id": "2bd2f190-442a-41ac-9511-258832e21566",
   "metadata": {},
   "outputs": [],
   "source": [
    "avg_price_pages = df[['Price', 'Pages']].mean()\n",
    "avg_price_pages"
   ]
  },
  {
   "cell_type": "markdown",
   "id": "2886e848-7d31-4a04-abed-e5fec684d336",
   "metadata": {},
   "source": [
    "**26. What is the average and maximum price of books, along with the average number of pages, across different languages?**"
   ]
  },
  {
   "cell_type": "code",
   "execution_count": 39,
   "id": "9a7385c0-144b-44d2-9577-fd22996406fe",
   "metadata": {},
   "outputs": [
    {
     "ename": "TypeError",
     "evalue": "can only concatenate str (not \"int\") to str",
     "output_type": "error",
     "traceback": [
      "\u001b[1;31m---------------------------------------------------------------------------\u001b[0m",
      "\u001b[1;31mTypeError\u001b[0m                                 Traceback (most recent call last)",
      "Cell \u001b[1;32mIn[39], line 1\u001b[0m\n\u001b[1;32m----> 1\u001b[0m avg_max_price \u001b[38;5;241m=\u001b[39m df[[\u001b[38;5;124m'\u001b[39m\u001b[38;5;124mPrice\u001b[39m\u001b[38;5;124m'\u001b[39m, \u001b[38;5;124m'\u001b[39m\u001b[38;5;124mPages\u001b[39m\u001b[38;5;124m'\u001b[39m]]\u001b[38;5;241m.\u001b[39magg([\u001b[38;5;124m'\u001b[39m\u001b[38;5;124mmean\u001b[39m\u001b[38;5;124m'\u001b[39m, \u001b[38;5;124m'\u001b[39m\u001b[38;5;124mmax\u001b[39m\u001b[38;5;124m'\u001b[39m])\n\u001b[0;32m      2\u001b[0m avg_max_price\n",
      "File \u001b[1;32m~\\anaconda3\\Lib\\site-packages\\pandas\\core\\frame.py:10149\u001b[0m, in \u001b[0;36mDataFrame.aggregate\u001b[1;34m(self, func, axis, *args, **kwargs)\u001b[0m\n\u001b[0;32m  10146\u001b[0m axis \u001b[38;5;241m=\u001b[39m \u001b[38;5;28mself\u001b[39m\u001b[38;5;241m.\u001b[39m_get_axis_number(axis)\n\u001b[0;32m  10148\u001b[0m op \u001b[38;5;241m=\u001b[39m frame_apply(\u001b[38;5;28mself\u001b[39m, func\u001b[38;5;241m=\u001b[39mfunc, axis\u001b[38;5;241m=\u001b[39maxis, args\u001b[38;5;241m=\u001b[39margs, kwargs\u001b[38;5;241m=\u001b[39mkwargs)\n\u001b[1;32m> 10149\u001b[0m result \u001b[38;5;241m=\u001b[39m op\u001b[38;5;241m.\u001b[39magg()\n\u001b[0;32m  10150\u001b[0m result \u001b[38;5;241m=\u001b[39m reconstruct_and_relabel_result(result, func, \u001b[38;5;241m*\u001b[39m\u001b[38;5;241m*\u001b[39mkwargs)\n\u001b[0;32m  10151\u001b[0m \u001b[38;5;28;01mreturn\u001b[39;00m result\n",
      "File \u001b[1;32m~\\anaconda3\\Lib\\site-packages\\pandas\\core\\apply.py:928\u001b[0m, in \u001b[0;36mFrameApply.agg\u001b[1;34m(self)\u001b[0m\n\u001b[0;32m    926\u001b[0m result \u001b[38;5;241m=\u001b[39m \u001b[38;5;28;01mNone\u001b[39;00m\n\u001b[0;32m    927\u001b[0m \u001b[38;5;28;01mtry\u001b[39;00m:\n\u001b[1;32m--> 928\u001b[0m     result \u001b[38;5;241m=\u001b[39m \u001b[38;5;28msuper\u001b[39m()\u001b[38;5;241m.\u001b[39magg()\n\u001b[0;32m    929\u001b[0m \u001b[38;5;28;01mfinally\u001b[39;00m:\n\u001b[0;32m    930\u001b[0m     \u001b[38;5;28mself\u001b[39m\u001b[38;5;241m.\u001b[39mobj \u001b[38;5;241m=\u001b[39m obj\n",
      "File \u001b[1;32m~\\anaconda3\\Lib\\site-packages\\pandas\\core\\apply.py:193\u001b[0m, in \u001b[0;36mApply.agg\u001b[1;34m(self)\u001b[0m\n\u001b[0;32m    190\u001b[0m     \u001b[38;5;28;01mreturn\u001b[39;00m \u001b[38;5;28mself\u001b[39m\u001b[38;5;241m.\u001b[39magg_dict_like()\n\u001b[0;32m    191\u001b[0m \u001b[38;5;28;01melif\u001b[39;00m is_list_like(func):\n\u001b[0;32m    192\u001b[0m     \u001b[38;5;66;03m# we require a list, but not a 'str'\u001b[39;00m\n\u001b[1;32m--> 193\u001b[0m     \u001b[38;5;28;01mreturn\u001b[39;00m \u001b[38;5;28mself\u001b[39m\u001b[38;5;241m.\u001b[39magg_list_like()\n\u001b[0;32m    195\u001b[0m \u001b[38;5;28;01mif\u001b[39;00m \u001b[38;5;28mcallable\u001b[39m(func):\n\u001b[0;32m    196\u001b[0m     f \u001b[38;5;241m=\u001b[39m com\u001b[38;5;241m.\u001b[39mget_cython_func(func)\n",
      "File \u001b[1;32m~\\anaconda3\\Lib\\site-packages\\pandas\\core\\apply.py:326\u001b[0m, in \u001b[0;36mApply.agg_list_like\u001b[1;34m(self)\u001b[0m\n\u001b[0;32m    318\u001b[0m \u001b[38;5;28;01mdef\u001b[39;00m \u001b[38;5;21magg_list_like\u001b[39m(\u001b[38;5;28mself\u001b[39m) \u001b[38;5;241m-\u001b[39m\u001b[38;5;241m>\u001b[39m DataFrame \u001b[38;5;241m|\u001b[39m Series:\n\u001b[0;32m    319\u001b[0m \u001b[38;5;250m    \u001b[39m\u001b[38;5;124;03m\"\"\"\u001b[39;00m\n\u001b[0;32m    320\u001b[0m \u001b[38;5;124;03m    Compute aggregation in the case of a list-like argument.\u001b[39;00m\n\u001b[0;32m    321\u001b[0m \n\u001b[1;32m   (...)\u001b[0m\n\u001b[0;32m    324\u001b[0m \u001b[38;5;124;03m    Result of aggregation.\u001b[39;00m\n\u001b[0;32m    325\u001b[0m \u001b[38;5;124;03m    \"\"\"\u001b[39;00m\n\u001b[1;32m--> 326\u001b[0m     \u001b[38;5;28;01mreturn\u001b[39;00m \u001b[38;5;28mself\u001b[39m\u001b[38;5;241m.\u001b[39magg_or_apply_list_like(op_name\u001b[38;5;241m=\u001b[39m\u001b[38;5;124m\"\u001b[39m\u001b[38;5;124magg\u001b[39m\u001b[38;5;124m\"\u001b[39m)\n",
      "File \u001b[1;32m~\\anaconda3\\Lib\\site-packages\\pandas\\core\\apply.py:744\u001b[0m, in \u001b[0;36mNDFrameApply.agg_or_apply_list_like\u001b[1;34m(self, op_name)\u001b[0m\n\u001b[0;32m    741\u001b[0m \u001b[38;5;28;01mif\u001b[39;00m \u001b[38;5;28mgetattr\u001b[39m(obj, \u001b[38;5;124m\"\u001b[39m\u001b[38;5;124maxis\u001b[39m\u001b[38;5;124m\"\u001b[39m, \u001b[38;5;241m0\u001b[39m) \u001b[38;5;241m==\u001b[39m \u001b[38;5;241m1\u001b[39m:\n\u001b[0;32m    742\u001b[0m     \u001b[38;5;28;01mraise\u001b[39;00m \u001b[38;5;167;01mNotImplementedError\u001b[39;00m(\u001b[38;5;124m\"\u001b[39m\u001b[38;5;124maxis other than 0 is not supported\u001b[39m\u001b[38;5;124m\"\u001b[39m)\n\u001b[1;32m--> 744\u001b[0m keys, results \u001b[38;5;241m=\u001b[39m \u001b[38;5;28mself\u001b[39m\u001b[38;5;241m.\u001b[39mcompute_list_like(op_name, obj, kwargs)\n\u001b[0;32m    745\u001b[0m result \u001b[38;5;241m=\u001b[39m \u001b[38;5;28mself\u001b[39m\u001b[38;5;241m.\u001b[39mwrap_results_list_like(keys, results)\n\u001b[0;32m    746\u001b[0m \u001b[38;5;28;01mreturn\u001b[39;00m result\n",
      "File \u001b[1;32m~\\anaconda3\\Lib\\site-packages\\pandas\\core\\apply.py:385\u001b[0m, in \u001b[0;36mApply.compute_list_like\u001b[1;34m(self, op_name, selected_obj, kwargs)\u001b[0m\n\u001b[0;32m    379\u001b[0m colg \u001b[38;5;241m=\u001b[39m obj\u001b[38;5;241m.\u001b[39m_gotitem(col, ndim\u001b[38;5;241m=\u001b[39m\u001b[38;5;241m1\u001b[39m, subset\u001b[38;5;241m=\u001b[39mselected_obj\u001b[38;5;241m.\u001b[39miloc[:, index])\n\u001b[0;32m    380\u001b[0m args \u001b[38;5;241m=\u001b[39m (\n\u001b[0;32m    381\u001b[0m     [\u001b[38;5;28mself\u001b[39m\u001b[38;5;241m.\u001b[39maxis, \u001b[38;5;241m*\u001b[39m\u001b[38;5;28mself\u001b[39m\u001b[38;5;241m.\u001b[39margs]\n\u001b[0;32m    382\u001b[0m     \u001b[38;5;28;01mif\u001b[39;00m include_axis(op_name, colg)\n\u001b[0;32m    383\u001b[0m     \u001b[38;5;28;01melse\u001b[39;00m \u001b[38;5;28mself\u001b[39m\u001b[38;5;241m.\u001b[39margs\n\u001b[0;32m    384\u001b[0m )\n\u001b[1;32m--> 385\u001b[0m new_res \u001b[38;5;241m=\u001b[39m \u001b[38;5;28mgetattr\u001b[39m(colg, op_name)(func, \u001b[38;5;241m*\u001b[39margs, \u001b[38;5;241m*\u001b[39m\u001b[38;5;241m*\u001b[39mkwargs)\n\u001b[0;32m    386\u001b[0m results\u001b[38;5;241m.\u001b[39mappend(new_res)\n\u001b[0;32m    387\u001b[0m indices\u001b[38;5;241m.\u001b[39mappend(index)\n",
      "File \u001b[1;32m~\\anaconda3\\Lib\\site-packages\\pandas\\core\\series.py:4766\u001b[0m, in \u001b[0;36mSeries.aggregate\u001b[1;34m(self, func, axis, *args, **kwargs)\u001b[0m\n\u001b[0;32m   4763\u001b[0m     func \u001b[38;5;241m=\u001b[39m \u001b[38;5;28mdict\u001b[39m(kwargs\u001b[38;5;241m.\u001b[39mitems())\n\u001b[0;32m   4765\u001b[0m op \u001b[38;5;241m=\u001b[39m SeriesApply(\u001b[38;5;28mself\u001b[39m, func, args\u001b[38;5;241m=\u001b[39margs, kwargs\u001b[38;5;241m=\u001b[39mkwargs)\n\u001b[1;32m-> 4766\u001b[0m result \u001b[38;5;241m=\u001b[39m op\u001b[38;5;241m.\u001b[39magg()\n\u001b[0;32m   4767\u001b[0m \u001b[38;5;28;01mreturn\u001b[39;00m result\n",
      "File \u001b[1;32m~\\anaconda3\\Lib\\site-packages\\pandas\\core\\apply.py:1430\u001b[0m, in \u001b[0;36mSeriesApply.agg\u001b[1;34m(self)\u001b[0m\n\u001b[0;32m   1429\u001b[0m \u001b[38;5;28;01mdef\u001b[39;00m \u001b[38;5;21magg\u001b[39m(\u001b[38;5;28mself\u001b[39m):\n\u001b[1;32m-> 1430\u001b[0m     result \u001b[38;5;241m=\u001b[39m \u001b[38;5;28msuper\u001b[39m()\u001b[38;5;241m.\u001b[39magg()\n\u001b[0;32m   1431\u001b[0m     \u001b[38;5;28;01mif\u001b[39;00m result \u001b[38;5;129;01mis\u001b[39;00m \u001b[38;5;28;01mNone\u001b[39;00m:\n\u001b[0;32m   1432\u001b[0m         obj \u001b[38;5;241m=\u001b[39m \u001b[38;5;28mself\u001b[39m\u001b[38;5;241m.\u001b[39mobj\n",
      "File \u001b[1;32m~\\anaconda3\\Lib\\site-packages\\pandas\\core\\apply.py:193\u001b[0m, in \u001b[0;36mApply.agg\u001b[1;34m(self)\u001b[0m\n\u001b[0;32m    190\u001b[0m     \u001b[38;5;28;01mreturn\u001b[39;00m \u001b[38;5;28mself\u001b[39m\u001b[38;5;241m.\u001b[39magg_dict_like()\n\u001b[0;32m    191\u001b[0m \u001b[38;5;28;01melif\u001b[39;00m is_list_like(func):\n\u001b[0;32m    192\u001b[0m     \u001b[38;5;66;03m# we require a list, but not a 'str'\u001b[39;00m\n\u001b[1;32m--> 193\u001b[0m     \u001b[38;5;28;01mreturn\u001b[39;00m \u001b[38;5;28mself\u001b[39m\u001b[38;5;241m.\u001b[39magg_list_like()\n\u001b[0;32m    195\u001b[0m \u001b[38;5;28;01mif\u001b[39;00m \u001b[38;5;28mcallable\u001b[39m(func):\n\u001b[0;32m    196\u001b[0m     f \u001b[38;5;241m=\u001b[39m com\u001b[38;5;241m.\u001b[39mget_cython_func(func)\n",
      "File \u001b[1;32m~\\anaconda3\\Lib\\site-packages\\pandas\\core\\apply.py:326\u001b[0m, in \u001b[0;36mApply.agg_list_like\u001b[1;34m(self)\u001b[0m\n\u001b[0;32m    318\u001b[0m \u001b[38;5;28;01mdef\u001b[39;00m \u001b[38;5;21magg_list_like\u001b[39m(\u001b[38;5;28mself\u001b[39m) \u001b[38;5;241m-\u001b[39m\u001b[38;5;241m>\u001b[39m DataFrame \u001b[38;5;241m|\u001b[39m Series:\n\u001b[0;32m    319\u001b[0m \u001b[38;5;250m    \u001b[39m\u001b[38;5;124;03m\"\"\"\u001b[39;00m\n\u001b[0;32m    320\u001b[0m \u001b[38;5;124;03m    Compute aggregation in the case of a list-like argument.\u001b[39;00m\n\u001b[0;32m    321\u001b[0m \n\u001b[1;32m   (...)\u001b[0m\n\u001b[0;32m    324\u001b[0m \u001b[38;5;124;03m    Result of aggregation.\u001b[39;00m\n\u001b[0;32m    325\u001b[0m \u001b[38;5;124;03m    \"\"\"\u001b[39;00m\n\u001b[1;32m--> 326\u001b[0m     \u001b[38;5;28;01mreturn\u001b[39;00m \u001b[38;5;28mself\u001b[39m\u001b[38;5;241m.\u001b[39magg_or_apply_list_like(op_name\u001b[38;5;241m=\u001b[39m\u001b[38;5;124m\"\u001b[39m\u001b[38;5;124magg\u001b[39m\u001b[38;5;124m\"\u001b[39m)\n",
      "File \u001b[1;32m~\\anaconda3\\Lib\\site-packages\\pandas\\core\\apply.py:744\u001b[0m, in \u001b[0;36mNDFrameApply.agg_or_apply_list_like\u001b[1;34m(self, op_name)\u001b[0m\n\u001b[0;32m    741\u001b[0m \u001b[38;5;28;01mif\u001b[39;00m \u001b[38;5;28mgetattr\u001b[39m(obj, \u001b[38;5;124m\"\u001b[39m\u001b[38;5;124maxis\u001b[39m\u001b[38;5;124m\"\u001b[39m, \u001b[38;5;241m0\u001b[39m) \u001b[38;5;241m==\u001b[39m \u001b[38;5;241m1\u001b[39m:\n\u001b[0;32m    742\u001b[0m     \u001b[38;5;28;01mraise\u001b[39;00m \u001b[38;5;167;01mNotImplementedError\u001b[39;00m(\u001b[38;5;124m\"\u001b[39m\u001b[38;5;124maxis other than 0 is not supported\u001b[39m\u001b[38;5;124m\"\u001b[39m)\n\u001b[1;32m--> 744\u001b[0m keys, results \u001b[38;5;241m=\u001b[39m \u001b[38;5;28mself\u001b[39m\u001b[38;5;241m.\u001b[39mcompute_list_like(op_name, obj, kwargs)\n\u001b[0;32m    745\u001b[0m result \u001b[38;5;241m=\u001b[39m \u001b[38;5;28mself\u001b[39m\u001b[38;5;241m.\u001b[39mwrap_results_list_like(keys, results)\n\u001b[0;32m    746\u001b[0m \u001b[38;5;28;01mreturn\u001b[39;00m result\n",
      "File \u001b[1;32m~\\anaconda3\\Lib\\site-packages\\pandas\\core\\apply.py:369\u001b[0m, in \u001b[0;36mApply.compute_list_like\u001b[1;34m(self, op_name, selected_obj, kwargs)\u001b[0m\n\u001b[0;32m    363\u001b[0m colg \u001b[38;5;241m=\u001b[39m obj\u001b[38;5;241m.\u001b[39m_gotitem(selected_obj\u001b[38;5;241m.\u001b[39mname, ndim\u001b[38;5;241m=\u001b[39m\u001b[38;5;241m1\u001b[39m, subset\u001b[38;5;241m=\u001b[39mselected_obj)\n\u001b[0;32m    364\u001b[0m args \u001b[38;5;241m=\u001b[39m (\n\u001b[0;32m    365\u001b[0m     [\u001b[38;5;28mself\u001b[39m\u001b[38;5;241m.\u001b[39maxis, \u001b[38;5;241m*\u001b[39m\u001b[38;5;28mself\u001b[39m\u001b[38;5;241m.\u001b[39margs]\n\u001b[0;32m    366\u001b[0m     \u001b[38;5;28;01mif\u001b[39;00m include_axis(op_name, colg)\n\u001b[0;32m    367\u001b[0m     \u001b[38;5;28;01melse\u001b[39;00m \u001b[38;5;28mself\u001b[39m\u001b[38;5;241m.\u001b[39margs\n\u001b[0;32m    368\u001b[0m )\n\u001b[1;32m--> 369\u001b[0m new_res \u001b[38;5;241m=\u001b[39m \u001b[38;5;28mgetattr\u001b[39m(colg, op_name)(a, \u001b[38;5;241m*\u001b[39margs, \u001b[38;5;241m*\u001b[39m\u001b[38;5;241m*\u001b[39mkwargs)\n\u001b[0;32m    370\u001b[0m results\u001b[38;5;241m.\u001b[39mappend(new_res)\n\u001b[0;32m    372\u001b[0m \u001b[38;5;66;03m# make sure we find a good name\u001b[39;00m\n",
      "File \u001b[1;32m~\\anaconda3\\Lib\\site-packages\\pandas\\core\\series.py:4766\u001b[0m, in \u001b[0;36mSeries.aggregate\u001b[1;34m(self, func, axis, *args, **kwargs)\u001b[0m\n\u001b[0;32m   4763\u001b[0m     func \u001b[38;5;241m=\u001b[39m \u001b[38;5;28mdict\u001b[39m(kwargs\u001b[38;5;241m.\u001b[39mitems())\n\u001b[0;32m   4765\u001b[0m op \u001b[38;5;241m=\u001b[39m SeriesApply(\u001b[38;5;28mself\u001b[39m, func, args\u001b[38;5;241m=\u001b[39margs, kwargs\u001b[38;5;241m=\u001b[39mkwargs)\n\u001b[1;32m-> 4766\u001b[0m result \u001b[38;5;241m=\u001b[39m op\u001b[38;5;241m.\u001b[39magg()\n\u001b[0;32m   4767\u001b[0m \u001b[38;5;28;01mreturn\u001b[39;00m result\n",
      "File \u001b[1;32m~\\anaconda3\\Lib\\site-packages\\pandas\\core\\apply.py:1430\u001b[0m, in \u001b[0;36mSeriesApply.agg\u001b[1;34m(self)\u001b[0m\n\u001b[0;32m   1429\u001b[0m \u001b[38;5;28;01mdef\u001b[39;00m \u001b[38;5;21magg\u001b[39m(\u001b[38;5;28mself\u001b[39m):\n\u001b[1;32m-> 1430\u001b[0m     result \u001b[38;5;241m=\u001b[39m \u001b[38;5;28msuper\u001b[39m()\u001b[38;5;241m.\u001b[39magg()\n\u001b[0;32m   1431\u001b[0m     \u001b[38;5;28;01mif\u001b[39;00m result \u001b[38;5;129;01mis\u001b[39;00m \u001b[38;5;28;01mNone\u001b[39;00m:\n\u001b[0;32m   1432\u001b[0m         obj \u001b[38;5;241m=\u001b[39m \u001b[38;5;28mself\u001b[39m\u001b[38;5;241m.\u001b[39mobj\n",
      "File \u001b[1;32m~\\anaconda3\\Lib\\site-packages\\pandas\\core\\apply.py:187\u001b[0m, in \u001b[0;36mApply.agg\u001b[1;34m(self)\u001b[0m\n\u001b[0;32m    184\u001b[0m kwargs \u001b[38;5;241m=\u001b[39m \u001b[38;5;28mself\u001b[39m\u001b[38;5;241m.\u001b[39mkwargs\n\u001b[0;32m    186\u001b[0m \u001b[38;5;28;01mif\u001b[39;00m \u001b[38;5;28misinstance\u001b[39m(func, \u001b[38;5;28mstr\u001b[39m):\n\u001b[1;32m--> 187\u001b[0m     \u001b[38;5;28;01mreturn\u001b[39;00m \u001b[38;5;28mself\u001b[39m\u001b[38;5;241m.\u001b[39mapply_str()\n\u001b[0;32m    189\u001b[0m \u001b[38;5;28;01mif\u001b[39;00m is_dict_like(func):\n\u001b[0;32m    190\u001b[0m     \u001b[38;5;28;01mreturn\u001b[39;00m \u001b[38;5;28mself\u001b[39m\u001b[38;5;241m.\u001b[39magg_dict_like()\n",
      "File \u001b[1;32m~\\anaconda3\\Lib\\site-packages\\pandas\\core\\apply.py:603\u001b[0m, in \u001b[0;36mApply.apply_str\u001b[1;34m(self)\u001b[0m\n\u001b[0;32m    601\u001b[0m         \u001b[38;5;28;01melse\u001b[39;00m:\n\u001b[0;32m    602\u001b[0m             \u001b[38;5;28mself\u001b[39m\u001b[38;5;241m.\u001b[39mkwargs[\u001b[38;5;124m\"\u001b[39m\u001b[38;5;124maxis\u001b[39m\u001b[38;5;124m\"\u001b[39m] \u001b[38;5;241m=\u001b[39m \u001b[38;5;28mself\u001b[39m\u001b[38;5;241m.\u001b[39maxis\n\u001b[1;32m--> 603\u001b[0m \u001b[38;5;28;01mreturn\u001b[39;00m \u001b[38;5;28mself\u001b[39m\u001b[38;5;241m.\u001b[39m_apply_str(obj, func, \u001b[38;5;241m*\u001b[39m\u001b[38;5;28mself\u001b[39m\u001b[38;5;241m.\u001b[39margs, \u001b[38;5;241m*\u001b[39m\u001b[38;5;241m*\u001b[39m\u001b[38;5;28mself\u001b[39m\u001b[38;5;241m.\u001b[39mkwargs)\n",
      "File \u001b[1;32m~\\anaconda3\\Lib\\site-packages\\pandas\\core\\apply.py:693\u001b[0m, in \u001b[0;36mApply._apply_str\u001b[1;34m(self, obj, func, *args, **kwargs)\u001b[0m\n\u001b[0;32m    691\u001b[0m f \u001b[38;5;241m=\u001b[39m \u001b[38;5;28mgetattr\u001b[39m(obj, func)\n\u001b[0;32m    692\u001b[0m \u001b[38;5;28;01mif\u001b[39;00m \u001b[38;5;28mcallable\u001b[39m(f):\n\u001b[1;32m--> 693\u001b[0m     \u001b[38;5;28;01mreturn\u001b[39;00m f(\u001b[38;5;241m*\u001b[39margs, \u001b[38;5;241m*\u001b[39m\u001b[38;5;241m*\u001b[39mkwargs)\n\u001b[0;32m    695\u001b[0m \u001b[38;5;66;03m# people may aggregate on a non-callable attribute\u001b[39;00m\n\u001b[0;32m    696\u001b[0m \u001b[38;5;66;03m# but don't let them think they can pass args to it\u001b[39;00m\n\u001b[0;32m    697\u001b[0m \u001b[38;5;28;01massert\u001b[39;00m \u001b[38;5;28mlen\u001b[39m(args) \u001b[38;5;241m==\u001b[39m \u001b[38;5;241m0\u001b[39m\n",
      "File \u001b[1;32m~\\anaconda3\\Lib\\site-packages\\pandas\\core\\series.py:6549\u001b[0m, in \u001b[0;36mSeries.mean\u001b[1;34m(self, axis, skipna, numeric_only, **kwargs)\u001b[0m\n\u001b[0;32m   6541\u001b[0m \u001b[38;5;129m@doc\u001b[39m(make_doc(\u001b[38;5;124m\"\u001b[39m\u001b[38;5;124mmean\u001b[39m\u001b[38;5;124m\"\u001b[39m, ndim\u001b[38;5;241m=\u001b[39m\u001b[38;5;241m1\u001b[39m))\n\u001b[0;32m   6542\u001b[0m \u001b[38;5;28;01mdef\u001b[39;00m \u001b[38;5;21mmean\u001b[39m(\n\u001b[0;32m   6543\u001b[0m     \u001b[38;5;28mself\u001b[39m,\n\u001b[1;32m   (...)\u001b[0m\n\u001b[0;32m   6547\u001b[0m     \u001b[38;5;241m*\u001b[39m\u001b[38;5;241m*\u001b[39mkwargs,\n\u001b[0;32m   6548\u001b[0m ):\n\u001b[1;32m-> 6549\u001b[0m     \u001b[38;5;28;01mreturn\u001b[39;00m NDFrame\u001b[38;5;241m.\u001b[39mmean(\u001b[38;5;28mself\u001b[39m, axis, skipna, numeric_only, \u001b[38;5;241m*\u001b[39m\u001b[38;5;241m*\u001b[39mkwargs)\n",
      "File \u001b[1;32m~\\anaconda3\\Lib\\site-packages\\pandas\\core\\generic.py:12420\u001b[0m, in \u001b[0;36mNDFrame.mean\u001b[1;34m(self, axis, skipna, numeric_only, **kwargs)\u001b[0m\n\u001b[0;32m  12413\u001b[0m \u001b[38;5;28;01mdef\u001b[39;00m \u001b[38;5;21mmean\u001b[39m(\n\u001b[0;32m  12414\u001b[0m     \u001b[38;5;28mself\u001b[39m,\n\u001b[0;32m  12415\u001b[0m     axis: Axis \u001b[38;5;241m|\u001b[39m \u001b[38;5;28;01mNone\u001b[39;00m \u001b[38;5;241m=\u001b[39m \u001b[38;5;241m0\u001b[39m,\n\u001b[1;32m   (...)\u001b[0m\n\u001b[0;32m  12418\u001b[0m     \u001b[38;5;241m*\u001b[39m\u001b[38;5;241m*\u001b[39mkwargs,\n\u001b[0;32m  12419\u001b[0m ) \u001b[38;5;241m-\u001b[39m\u001b[38;5;241m>\u001b[39m Series \u001b[38;5;241m|\u001b[39m \u001b[38;5;28mfloat\u001b[39m:\n\u001b[1;32m> 12420\u001b[0m     \u001b[38;5;28;01mreturn\u001b[39;00m \u001b[38;5;28mself\u001b[39m\u001b[38;5;241m.\u001b[39m_stat_function(\n\u001b[0;32m  12421\u001b[0m         \u001b[38;5;124m\"\u001b[39m\u001b[38;5;124mmean\u001b[39m\u001b[38;5;124m\"\u001b[39m, nanops\u001b[38;5;241m.\u001b[39mnanmean, axis, skipna, numeric_only, \u001b[38;5;241m*\u001b[39m\u001b[38;5;241m*\u001b[39mkwargs\n\u001b[0;32m  12422\u001b[0m     )\n",
      "File \u001b[1;32m~\\anaconda3\\Lib\\site-packages\\pandas\\core\\generic.py:12377\u001b[0m, in \u001b[0;36mNDFrame._stat_function\u001b[1;34m(self, name, func, axis, skipna, numeric_only, **kwargs)\u001b[0m\n\u001b[0;32m  12373\u001b[0m nv\u001b[38;5;241m.\u001b[39mvalidate_func(name, (), kwargs)\n\u001b[0;32m  12375\u001b[0m validate_bool_kwarg(skipna, \u001b[38;5;124m\"\u001b[39m\u001b[38;5;124mskipna\u001b[39m\u001b[38;5;124m\"\u001b[39m, none_allowed\u001b[38;5;241m=\u001b[39m\u001b[38;5;28;01mFalse\u001b[39;00m)\n\u001b[1;32m> 12377\u001b[0m \u001b[38;5;28;01mreturn\u001b[39;00m \u001b[38;5;28mself\u001b[39m\u001b[38;5;241m.\u001b[39m_reduce(\n\u001b[0;32m  12378\u001b[0m     func, name\u001b[38;5;241m=\u001b[39mname, axis\u001b[38;5;241m=\u001b[39maxis, skipna\u001b[38;5;241m=\u001b[39mskipna, numeric_only\u001b[38;5;241m=\u001b[39mnumeric_only\n\u001b[0;32m  12379\u001b[0m )\n",
      "File \u001b[1;32m~\\anaconda3\\Lib\\site-packages\\pandas\\core\\series.py:6457\u001b[0m, in \u001b[0;36mSeries._reduce\u001b[1;34m(self, op, name, axis, skipna, numeric_only, filter_type, **kwds)\u001b[0m\n\u001b[0;32m   6452\u001b[0m     \u001b[38;5;66;03m# GH#47500 - change to TypeError to match other methods\u001b[39;00m\n\u001b[0;32m   6453\u001b[0m     \u001b[38;5;28;01mraise\u001b[39;00m \u001b[38;5;167;01mTypeError\u001b[39;00m(\n\u001b[0;32m   6454\u001b[0m         \u001b[38;5;124mf\u001b[39m\u001b[38;5;124m\"\u001b[39m\u001b[38;5;124mSeries.\u001b[39m\u001b[38;5;132;01m{\u001b[39;00mname\u001b[38;5;132;01m}\u001b[39;00m\u001b[38;5;124m does not allow \u001b[39m\u001b[38;5;132;01m{\u001b[39;00mkwd_name\u001b[38;5;132;01m}\u001b[39;00m\u001b[38;5;124m=\u001b[39m\u001b[38;5;132;01m{\u001b[39;00mnumeric_only\u001b[38;5;132;01m}\u001b[39;00m\u001b[38;5;124m \u001b[39m\u001b[38;5;124m\"\u001b[39m\n\u001b[0;32m   6455\u001b[0m         \u001b[38;5;124m\"\u001b[39m\u001b[38;5;124mwith non-numeric dtypes.\u001b[39m\u001b[38;5;124m\"\u001b[39m\n\u001b[0;32m   6456\u001b[0m     )\n\u001b[1;32m-> 6457\u001b[0m \u001b[38;5;28;01mreturn\u001b[39;00m op(delegate, skipna\u001b[38;5;241m=\u001b[39mskipna, \u001b[38;5;241m*\u001b[39m\u001b[38;5;241m*\u001b[39mkwds)\n",
      "File \u001b[1;32m~\\anaconda3\\Lib\\site-packages\\pandas\\core\\nanops.py:147\u001b[0m, in \u001b[0;36mbottleneck_switch.__call__.<locals>.f\u001b[1;34m(values, axis, skipna, **kwds)\u001b[0m\n\u001b[0;32m    145\u001b[0m         result \u001b[38;5;241m=\u001b[39m alt(values, axis\u001b[38;5;241m=\u001b[39maxis, skipna\u001b[38;5;241m=\u001b[39mskipna, \u001b[38;5;241m*\u001b[39m\u001b[38;5;241m*\u001b[39mkwds)\n\u001b[0;32m    146\u001b[0m \u001b[38;5;28;01melse\u001b[39;00m:\n\u001b[1;32m--> 147\u001b[0m     result \u001b[38;5;241m=\u001b[39m alt(values, axis\u001b[38;5;241m=\u001b[39maxis, skipna\u001b[38;5;241m=\u001b[39mskipna, \u001b[38;5;241m*\u001b[39m\u001b[38;5;241m*\u001b[39mkwds)\n\u001b[0;32m    149\u001b[0m \u001b[38;5;28;01mreturn\u001b[39;00m result\n",
      "File \u001b[1;32m~\\anaconda3\\Lib\\site-packages\\pandas\\core\\nanops.py:404\u001b[0m, in \u001b[0;36m_datetimelike_compat.<locals>.new_func\u001b[1;34m(values, axis, skipna, mask, **kwargs)\u001b[0m\n\u001b[0;32m    401\u001b[0m \u001b[38;5;28;01mif\u001b[39;00m datetimelike \u001b[38;5;129;01mand\u001b[39;00m mask \u001b[38;5;129;01mis\u001b[39;00m \u001b[38;5;28;01mNone\u001b[39;00m:\n\u001b[0;32m    402\u001b[0m     mask \u001b[38;5;241m=\u001b[39m isna(values)\n\u001b[1;32m--> 404\u001b[0m result \u001b[38;5;241m=\u001b[39m func(values, axis\u001b[38;5;241m=\u001b[39maxis, skipna\u001b[38;5;241m=\u001b[39mskipna, mask\u001b[38;5;241m=\u001b[39mmask, \u001b[38;5;241m*\u001b[39m\u001b[38;5;241m*\u001b[39mkwargs)\n\u001b[0;32m    406\u001b[0m \u001b[38;5;28;01mif\u001b[39;00m datetimelike:\n\u001b[0;32m    407\u001b[0m     result \u001b[38;5;241m=\u001b[39m _wrap_results(result, orig_values\u001b[38;5;241m.\u001b[39mdtype, fill_value\u001b[38;5;241m=\u001b[39miNaT)\n",
      "File \u001b[1;32m~\\anaconda3\\Lib\\site-packages\\pandas\\core\\nanops.py:719\u001b[0m, in \u001b[0;36mnanmean\u001b[1;34m(values, axis, skipna, mask)\u001b[0m\n\u001b[0;32m    716\u001b[0m     dtype_count \u001b[38;5;241m=\u001b[39m dtype\n\u001b[0;32m    718\u001b[0m count \u001b[38;5;241m=\u001b[39m _get_counts(values\u001b[38;5;241m.\u001b[39mshape, mask, axis, dtype\u001b[38;5;241m=\u001b[39mdtype_count)\n\u001b[1;32m--> 719\u001b[0m the_sum \u001b[38;5;241m=\u001b[39m values\u001b[38;5;241m.\u001b[39msum(axis, dtype\u001b[38;5;241m=\u001b[39mdtype_sum)\n\u001b[0;32m    720\u001b[0m the_sum \u001b[38;5;241m=\u001b[39m _ensure_numeric(the_sum)\n\u001b[0;32m    722\u001b[0m \u001b[38;5;28;01mif\u001b[39;00m axis \u001b[38;5;129;01mis\u001b[39;00m \u001b[38;5;129;01mnot\u001b[39;00m \u001b[38;5;28;01mNone\u001b[39;00m \u001b[38;5;129;01mand\u001b[39;00m \u001b[38;5;28mgetattr\u001b[39m(the_sum, \u001b[38;5;124m\"\u001b[39m\u001b[38;5;124mndim\u001b[39m\u001b[38;5;124m\"\u001b[39m, \u001b[38;5;28;01mFalse\u001b[39;00m):\n",
      "File \u001b[1;32m~\\anaconda3\\Lib\\site-packages\\numpy\\core\\_methods.py:49\u001b[0m, in \u001b[0;36m_sum\u001b[1;34m(a, axis, dtype, out, keepdims, initial, where)\u001b[0m\n\u001b[0;32m     47\u001b[0m \u001b[38;5;28;01mdef\u001b[39;00m \u001b[38;5;21m_sum\u001b[39m(a, axis\u001b[38;5;241m=\u001b[39m\u001b[38;5;28;01mNone\u001b[39;00m, dtype\u001b[38;5;241m=\u001b[39m\u001b[38;5;28;01mNone\u001b[39;00m, out\u001b[38;5;241m=\u001b[39m\u001b[38;5;28;01mNone\u001b[39;00m, keepdims\u001b[38;5;241m=\u001b[39m\u001b[38;5;28;01mFalse\u001b[39;00m,\n\u001b[0;32m     48\u001b[0m          initial\u001b[38;5;241m=\u001b[39m_NoValue, where\u001b[38;5;241m=\u001b[39m\u001b[38;5;28;01mTrue\u001b[39;00m):\n\u001b[1;32m---> 49\u001b[0m     \u001b[38;5;28;01mreturn\u001b[39;00m umr_sum(a, axis, dtype, out, keepdims, initial, where)\n",
      "\u001b[1;31mTypeError\u001b[0m: can only concatenate str (not \"int\") to str"
     ]
    }
   ],
   "source": [
    "avg_max_price = df[['Price', 'Pages']].agg(['mean', 'max'])\n",
    "avg_max_price\n"
   ]
  },
  {
   "cell_type": "markdown",
   "id": "c9a7d5e4-dc43-424c-8bd3-817b470d3348",
   "metadata": {},
   "source": [
    "**27. How do the average price and average number of pages differ across various languages and categories**"
   ]
  },
  {
   "cell_type": "code",
   "execution_count": 37,
   "id": "f8210286-276d-4b1e-8632-2f5d383002cd",
   "metadata": {},
   "outputs": [
    {
     "ename": "TypeError",
     "evalue": "can only concatenate str (not \"int\") to str",
     "output_type": "error",
     "traceback": [
      "\u001b[1;31m---------------------------------------------------------------------------\u001b[0m",
      "\u001b[1;31mTypeError\u001b[0m                                 Traceback (most recent call last)",
      "Cell \u001b[1;32mIn[37], line 1\u001b[0m\n\u001b[1;32m----> 1\u001b[0m df[\u001b[38;5;124m'\u001b[39m\u001b[38;5;124mPrice\u001b[39m\u001b[38;5;124m'\u001b[39m]\u001b[38;5;241m.\u001b[39mmean()\n",
      "File \u001b[1;32m~\\anaconda3\\Lib\\site-packages\\pandas\\core\\series.py:6549\u001b[0m, in \u001b[0;36mSeries.mean\u001b[1;34m(self, axis, skipna, numeric_only, **kwargs)\u001b[0m\n\u001b[0;32m   6541\u001b[0m \u001b[38;5;129m@doc\u001b[39m(make_doc(\u001b[38;5;124m\"\u001b[39m\u001b[38;5;124mmean\u001b[39m\u001b[38;5;124m\"\u001b[39m, ndim\u001b[38;5;241m=\u001b[39m\u001b[38;5;241m1\u001b[39m))\n\u001b[0;32m   6542\u001b[0m \u001b[38;5;28;01mdef\u001b[39;00m \u001b[38;5;21mmean\u001b[39m(\n\u001b[0;32m   6543\u001b[0m     \u001b[38;5;28mself\u001b[39m,\n\u001b[1;32m   (...)\u001b[0m\n\u001b[0;32m   6547\u001b[0m     \u001b[38;5;241m*\u001b[39m\u001b[38;5;241m*\u001b[39mkwargs,\n\u001b[0;32m   6548\u001b[0m ):\n\u001b[1;32m-> 6549\u001b[0m     \u001b[38;5;28;01mreturn\u001b[39;00m NDFrame\u001b[38;5;241m.\u001b[39mmean(\u001b[38;5;28mself\u001b[39m, axis, skipna, numeric_only, \u001b[38;5;241m*\u001b[39m\u001b[38;5;241m*\u001b[39mkwargs)\n",
      "File \u001b[1;32m~\\anaconda3\\Lib\\site-packages\\pandas\\core\\generic.py:12420\u001b[0m, in \u001b[0;36mNDFrame.mean\u001b[1;34m(self, axis, skipna, numeric_only, **kwargs)\u001b[0m\n\u001b[0;32m  12413\u001b[0m \u001b[38;5;28;01mdef\u001b[39;00m \u001b[38;5;21mmean\u001b[39m(\n\u001b[0;32m  12414\u001b[0m     \u001b[38;5;28mself\u001b[39m,\n\u001b[0;32m  12415\u001b[0m     axis: Axis \u001b[38;5;241m|\u001b[39m \u001b[38;5;28;01mNone\u001b[39;00m \u001b[38;5;241m=\u001b[39m \u001b[38;5;241m0\u001b[39m,\n\u001b[1;32m   (...)\u001b[0m\n\u001b[0;32m  12418\u001b[0m     \u001b[38;5;241m*\u001b[39m\u001b[38;5;241m*\u001b[39mkwargs,\n\u001b[0;32m  12419\u001b[0m ) \u001b[38;5;241m-\u001b[39m\u001b[38;5;241m>\u001b[39m Series \u001b[38;5;241m|\u001b[39m \u001b[38;5;28mfloat\u001b[39m:\n\u001b[1;32m> 12420\u001b[0m     \u001b[38;5;28;01mreturn\u001b[39;00m \u001b[38;5;28mself\u001b[39m\u001b[38;5;241m.\u001b[39m_stat_function(\n\u001b[0;32m  12421\u001b[0m         \u001b[38;5;124m\"\u001b[39m\u001b[38;5;124mmean\u001b[39m\u001b[38;5;124m\"\u001b[39m, nanops\u001b[38;5;241m.\u001b[39mnanmean, axis, skipna, numeric_only, \u001b[38;5;241m*\u001b[39m\u001b[38;5;241m*\u001b[39mkwargs\n\u001b[0;32m  12422\u001b[0m     )\n",
      "File \u001b[1;32m~\\anaconda3\\Lib\\site-packages\\pandas\\core\\generic.py:12377\u001b[0m, in \u001b[0;36mNDFrame._stat_function\u001b[1;34m(self, name, func, axis, skipna, numeric_only, **kwargs)\u001b[0m\n\u001b[0;32m  12373\u001b[0m nv\u001b[38;5;241m.\u001b[39mvalidate_func(name, (), kwargs)\n\u001b[0;32m  12375\u001b[0m validate_bool_kwarg(skipna, \u001b[38;5;124m\"\u001b[39m\u001b[38;5;124mskipna\u001b[39m\u001b[38;5;124m\"\u001b[39m, none_allowed\u001b[38;5;241m=\u001b[39m\u001b[38;5;28;01mFalse\u001b[39;00m)\n\u001b[1;32m> 12377\u001b[0m \u001b[38;5;28;01mreturn\u001b[39;00m \u001b[38;5;28mself\u001b[39m\u001b[38;5;241m.\u001b[39m_reduce(\n\u001b[0;32m  12378\u001b[0m     func, name\u001b[38;5;241m=\u001b[39mname, axis\u001b[38;5;241m=\u001b[39maxis, skipna\u001b[38;5;241m=\u001b[39mskipna, numeric_only\u001b[38;5;241m=\u001b[39mnumeric_only\n\u001b[0;32m  12379\u001b[0m )\n",
      "File \u001b[1;32m~\\anaconda3\\Lib\\site-packages\\pandas\\core\\series.py:6457\u001b[0m, in \u001b[0;36mSeries._reduce\u001b[1;34m(self, op, name, axis, skipna, numeric_only, filter_type, **kwds)\u001b[0m\n\u001b[0;32m   6452\u001b[0m     \u001b[38;5;66;03m# GH#47500 - change to TypeError to match other methods\u001b[39;00m\n\u001b[0;32m   6453\u001b[0m     \u001b[38;5;28;01mraise\u001b[39;00m \u001b[38;5;167;01mTypeError\u001b[39;00m(\n\u001b[0;32m   6454\u001b[0m         \u001b[38;5;124mf\u001b[39m\u001b[38;5;124m\"\u001b[39m\u001b[38;5;124mSeries.\u001b[39m\u001b[38;5;132;01m{\u001b[39;00mname\u001b[38;5;132;01m}\u001b[39;00m\u001b[38;5;124m does not allow \u001b[39m\u001b[38;5;132;01m{\u001b[39;00mkwd_name\u001b[38;5;132;01m}\u001b[39;00m\u001b[38;5;124m=\u001b[39m\u001b[38;5;132;01m{\u001b[39;00mnumeric_only\u001b[38;5;132;01m}\u001b[39;00m\u001b[38;5;124m \u001b[39m\u001b[38;5;124m\"\u001b[39m\n\u001b[0;32m   6455\u001b[0m         \u001b[38;5;124m\"\u001b[39m\u001b[38;5;124mwith non-numeric dtypes.\u001b[39m\u001b[38;5;124m\"\u001b[39m\n\u001b[0;32m   6456\u001b[0m     )\n\u001b[1;32m-> 6457\u001b[0m \u001b[38;5;28;01mreturn\u001b[39;00m op(delegate, skipna\u001b[38;5;241m=\u001b[39mskipna, \u001b[38;5;241m*\u001b[39m\u001b[38;5;241m*\u001b[39mkwds)\n",
      "File \u001b[1;32m~\\anaconda3\\Lib\\site-packages\\pandas\\core\\nanops.py:147\u001b[0m, in \u001b[0;36mbottleneck_switch.__call__.<locals>.f\u001b[1;34m(values, axis, skipna, **kwds)\u001b[0m\n\u001b[0;32m    145\u001b[0m         result \u001b[38;5;241m=\u001b[39m alt(values, axis\u001b[38;5;241m=\u001b[39maxis, skipna\u001b[38;5;241m=\u001b[39mskipna, \u001b[38;5;241m*\u001b[39m\u001b[38;5;241m*\u001b[39mkwds)\n\u001b[0;32m    146\u001b[0m \u001b[38;5;28;01melse\u001b[39;00m:\n\u001b[1;32m--> 147\u001b[0m     result \u001b[38;5;241m=\u001b[39m alt(values, axis\u001b[38;5;241m=\u001b[39maxis, skipna\u001b[38;5;241m=\u001b[39mskipna, \u001b[38;5;241m*\u001b[39m\u001b[38;5;241m*\u001b[39mkwds)\n\u001b[0;32m    149\u001b[0m \u001b[38;5;28;01mreturn\u001b[39;00m result\n",
      "File \u001b[1;32m~\\anaconda3\\Lib\\site-packages\\pandas\\core\\nanops.py:404\u001b[0m, in \u001b[0;36m_datetimelike_compat.<locals>.new_func\u001b[1;34m(values, axis, skipna, mask, **kwargs)\u001b[0m\n\u001b[0;32m    401\u001b[0m \u001b[38;5;28;01mif\u001b[39;00m datetimelike \u001b[38;5;129;01mand\u001b[39;00m mask \u001b[38;5;129;01mis\u001b[39;00m \u001b[38;5;28;01mNone\u001b[39;00m:\n\u001b[0;32m    402\u001b[0m     mask \u001b[38;5;241m=\u001b[39m isna(values)\n\u001b[1;32m--> 404\u001b[0m result \u001b[38;5;241m=\u001b[39m func(values, axis\u001b[38;5;241m=\u001b[39maxis, skipna\u001b[38;5;241m=\u001b[39mskipna, mask\u001b[38;5;241m=\u001b[39mmask, \u001b[38;5;241m*\u001b[39m\u001b[38;5;241m*\u001b[39mkwargs)\n\u001b[0;32m    406\u001b[0m \u001b[38;5;28;01mif\u001b[39;00m datetimelike:\n\u001b[0;32m    407\u001b[0m     result \u001b[38;5;241m=\u001b[39m _wrap_results(result, orig_values\u001b[38;5;241m.\u001b[39mdtype, fill_value\u001b[38;5;241m=\u001b[39miNaT)\n",
      "File \u001b[1;32m~\\anaconda3\\Lib\\site-packages\\pandas\\core\\nanops.py:719\u001b[0m, in \u001b[0;36mnanmean\u001b[1;34m(values, axis, skipna, mask)\u001b[0m\n\u001b[0;32m    716\u001b[0m     dtype_count \u001b[38;5;241m=\u001b[39m dtype\n\u001b[0;32m    718\u001b[0m count \u001b[38;5;241m=\u001b[39m _get_counts(values\u001b[38;5;241m.\u001b[39mshape, mask, axis, dtype\u001b[38;5;241m=\u001b[39mdtype_count)\n\u001b[1;32m--> 719\u001b[0m the_sum \u001b[38;5;241m=\u001b[39m values\u001b[38;5;241m.\u001b[39msum(axis, dtype\u001b[38;5;241m=\u001b[39mdtype_sum)\n\u001b[0;32m    720\u001b[0m the_sum \u001b[38;5;241m=\u001b[39m _ensure_numeric(the_sum)\n\u001b[0;32m    722\u001b[0m \u001b[38;5;28;01mif\u001b[39;00m axis \u001b[38;5;129;01mis\u001b[39;00m \u001b[38;5;129;01mnot\u001b[39;00m \u001b[38;5;28;01mNone\u001b[39;00m \u001b[38;5;129;01mand\u001b[39;00m \u001b[38;5;28mgetattr\u001b[39m(the_sum, \u001b[38;5;124m\"\u001b[39m\u001b[38;5;124mndim\u001b[39m\u001b[38;5;124m\"\u001b[39m, \u001b[38;5;28;01mFalse\u001b[39;00m):\n",
      "File \u001b[1;32m~\\anaconda3\\Lib\\site-packages\\numpy\\core\\_methods.py:49\u001b[0m, in \u001b[0;36m_sum\u001b[1;34m(a, axis, dtype, out, keepdims, initial, where)\u001b[0m\n\u001b[0;32m     47\u001b[0m \u001b[38;5;28;01mdef\u001b[39;00m \u001b[38;5;21m_sum\u001b[39m(a, axis\u001b[38;5;241m=\u001b[39m\u001b[38;5;28;01mNone\u001b[39;00m, dtype\u001b[38;5;241m=\u001b[39m\u001b[38;5;28;01mNone\u001b[39;00m, out\u001b[38;5;241m=\u001b[39m\u001b[38;5;28;01mNone\u001b[39;00m, keepdims\u001b[38;5;241m=\u001b[39m\u001b[38;5;28;01mFalse\u001b[39;00m,\n\u001b[0;32m     48\u001b[0m          initial\u001b[38;5;241m=\u001b[39m_NoValue, where\u001b[38;5;241m=\u001b[39m\u001b[38;5;28;01mTrue\u001b[39;00m):\n\u001b[1;32m---> 49\u001b[0m     \u001b[38;5;28;01mreturn\u001b[39;00m umr_sum(a, axis, dtype, out, keepdims, initial, where)\n",
      "\u001b[1;31mTypeError\u001b[0m: can only concatenate str (not \"int\") to str"
     ]
    }
   ],
   "source": [
    "df['Price'].mean()"
   ]
  },
  {
   "cell_type": "markdown",
   "id": "9f9a1d8a-c556-4636-a40a-5f96011fda82",
   "metadata": {},
   "source": [
    "**28. Extract the data for the 'English' language from the previously grouped DataFrame.**"
   ]
  },
  {
   "cell_type": "code",
   "execution_count": null,
   "id": "7231e98c-7889-44d3-86e9-d8d18672b99d",
   "metadata": {},
   "outputs": [],
   "source": []
  },
  {
   "cell_type": "markdown",
   "id": "6a926c2d-fb37-4e4b-b34b-43817034935a",
   "metadata": {},
   "source": [
    "**29. Extract the data for the combination of 'English' language and 'Finance' category from the previously grouped DataFrame.**"
   ]
  },
  {
   "cell_type": "code",
   "execution_count": null,
   "id": "50dc19c5-8fca-4d79-a31f-de6e8e3d529f",
   "metadata": {},
   "outputs": [],
   "source": []
  },
  {
   "cell_type": "markdown",
   "id": "8728d306-ad3e-4804-8121-f151b112a618",
   "metadata": {},
   "source": [
    "**30. Which price range has the most number of books?**"
   ]
  },
  {
   "cell_type": "code",
   "execution_count": null,
   "id": "f71ef067-82a8-4a8a-bcf0-ba389eca705b",
   "metadata": {},
   "outputs": [],
   "source": []
  },
  {
   "cell_type": "markdown",
   "id": "d1d6e399-fc64-4998-927b-b961e0eea2d1",
   "metadata": {},
   "source": [
    "**31. How many books have received more than 1000 ratings?**\n"
   ]
  },
  {
   "cell_type": "code",
   "execution_count": null,
   "id": "fdaa88a9-3a14-4ef0-8606-914ceb19f2c0",
   "metadata": {},
   "outputs": [],
   "source": [
    "g = df.groupby('Book Name')\n",
    "g\n",
    "g.sum().sort_values('Total Ratings')"
   ]
  },
  {
   "cell_type": "markdown",
   "id": "19ea4c87-5e3a-4700-adf6-d046f60144d3",
   "metadata": {},
   "source": [
    "**32. Which book(s) has the highest rating?**\n"
   ]
  },
  {
   "cell_type": "code",
   "execution_count": null,
   "id": "b39ad40d-4b24-4993-9501-e6f80e295082",
   "metadata": {},
   "outputs": [],
   "source": []
  },
  {
   "cell_type": "markdown",
   "id": "3079c733-dd5b-45f7-bf78-9e995bfd7ef9",
   "metadata": {},
   "source": [
    "**33. What is the average rating across different languages?**"
   ]
  },
  {
   "cell_type": "code",
   "execution_count": null,
   "id": "8f9f90b7-591f-498e-9d41-60759d51cc6f",
   "metadata": {},
   "outputs": [],
   "source": []
  },
  {
   "cell_type": "markdown",
   "id": "1c4d0417-9474-460c-84bc-c691812b2807",
   "metadata": {},
   "source": [
    "**34. Which authors have the highest average book ratings?**\n"
   ]
  },
  {
   "cell_type": "code",
   "execution_count": null,
   "id": "c76b8d63-9f41-4c28-8ecc-8fe00b0992be",
   "metadata": {},
   "outputs": [],
   "source": []
  },
  {
   "cell_type": "markdown",
   "id": "6667d8fe-ce24-4623-a6c3-534f712cd528",
   "metadata": {},
   "source": [
    "**35. Display the longest book(max pages) written by each author.  Sort the result by Pages in descending order**"
   ]
  },
  {
   "cell_type": "code",
   "execution_count": null,
   "id": "051b1ebf-a987-49f2-aa65-a6ae80a2d10c",
   "metadata": {},
   "outputs": [],
   "source": []
  },
  {
   "cell_type": "markdown",
   "id": "5a4e966b-fd27-4e2d-b79d-3baabd752192",
   "metadata": {},
   "source": [
    "**36. Display the total number of ratings received by each author.**\n",
    "\n"
   ]
  },
  {
   "cell_type": "code",
   "execution_count": null,
   "id": "dbf9d3a2-e50f-4837-a9c6-c426758811b8",
   "metadata": {},
   "outputs": [],
   "source": []
  },
  {
   "cell_type": "markdown",
   "id": "da87c12b-f885-4eca-97fd-7848c115fa2f",
   "metadata": {},
   "source": [
    "**37. Find top 5 and bottom 5 authors based on total number of ratings received**"
   ]
  },
  {
   "cell_type": "code",
   "execution_count": null,
   "id": "d4449fb2-8f3c-47da-ad10-1e4a8657ca6f",
   "metadata": {},
   "outputs": [],
   "source": []
  },
  {
   "cell_type": "markdown",
   "id": "eb86e4e8-2c77-46eb-b6b3-9d0193bd0754",
   "metadata": {},
   "source": [
    "**38. Find the top 10 books with the highest number of total ratings.**\n"
   ]
  },
  {
   "cell_type": "code",
   "execution_count": null,
   "id": "f33dc4e8-29e6-420b-8649-531c5afb7af5",
   "metadata": {},
   "outputs": [],
   "source": []
  },
  {
   "cell_type": "markdown",
   "id": "2c814b58-676c-453f-a6e5-f8bfea4e6c1e",
   "metadata": {},
   "source": [
    "**39. Explore how many books exist in each category and language combination.**"
   ]
  },
  {
   "cell_type": "code",
   "execution_count": null,
   "id": "3033a496-d4ba-46b1-95fe-a54d10a816cb",
   "metadata": {},
   "outputs": [],
   "source": []
  },
  {
   "cell_type": "markdown",
   "id": "34698717-a0c8-4c0c-8a09-7e4719d49bfc",
   "metadata": {},
   "source": [
    "**40 Identify the longest and shortest books by pages within each category.**"
   ]
  },
  {
   "cell_type": "code",
   "execution_count": null,
   "id": "74f49cea-45bb-4fa2-b582-a7950187d6a0",
   "metadata": {},
   "outputs": [],
   "source": []
  },
  {
   "cell_type": "markdown",
   "id": "70e85143-0fa4-47d3-b120-c0d97ccd046d",
   "metadata": {},
   "source": [
    "**41. Plot a boxplot of the \"Pages\" column**"
   ]
  },
  {
   "cell_type": "code",
   "execution_count": null,
   "id": "651b4ad7-afe6-4895-b6be-10b78e108e91",
   "metadata": {},
   "outputs": [],
   "source": []
  },
  {
   "cell_type": "markdown",
   "id": "2772863d-a758-4edf-9451-a731f413d7c1",
   "metadata": {},
   "source": [
    "**42. Plot a boxplot of the \"Price\" column**"
   ]
  },
  {
   "cell_type": "code",
   "execution_count": null,
   "id": "6fbb1198-30e2-4687-b4af-8d3cc5f0b90d",
   "metadata": {},
   "outputs": [],
   "source": []
  },
  {
   "cell_type": "markdown",
   "id": "1d9d024f-712a-41d0-9351-9dc6ce86ce16",
   "metadata": {},
   "source": [
    "**43. Use the following function to remove outliers from Price and Pages column. Find the number of rows removed and plot boxplots for Price and Pages after removing the oultiers**"
   ]
  },
  {
   "cell_type": "code",
   "execution_count": null,
   "id": "d6ce50de-49cb-4e1b-84e8-b2546eb15dc5",
   "metadata": {},
   "outputs": [],
   "source": [
    "def remove_outliers(df, column, multiplier=1.5):\n",
    "    # Calculate Q1 (25th percentile) and Q3 (75th percentile) of the column\n",
    "    Q1 = df[column].quantile(0.25)\n",
    "    Q3 = df[column].quantile(0.75)\n",
    "\n",
    "    # Calculate IQR\n",
    "    IQR = Q3 - Q1\n",
    "\n",
    "    # Define the lower and upper bounds for outliers\n",
    "    lower_bound = Q1 - multiplier * IQR\n",
    "    upper_bound = Q3 + multiplier * IQR\n",
    "\n",
    "    # Remove outliers by filtering the column within the bounds\n",
    "    df_cleaned = df[(df[column] >= lower_bound) & (df[column] <= upper_bound)]\n",
    "\n",
    "    return df_cleaned"
   ]
  },
  {
   "cell_type": "code",
   "execution_count": null,
   "id": "9102039e-d23e-494a-a523-d6284ef4b2da",
   "metadata": {},
   "outputs": [],
   "source": []
  },
  {
   "cell_type": "code",
   "execution_count": null,
   "id": "22aedb22-5fff-4595-b046-a0883e736e4c",
   "metadata": {},
   "outputs": [],
   "source": []
  },
  {
   "cell_type": "code",
   "execution_count": null,
   "id": "541f3381-fb34-421c-80e0-1eb1b9698e70",
   "metadata": {},
   "outputs": [],
   "source": []
  },
  {
   "cell_type": "code",
   "execution_count": null,
   "id": "3328cdb9-8425-4b04-9d56-a2d5d458e57e",
   "metadata": {},
   "outputs": [],
   "source": []
  },
  {
   "cell_type": "markdown",
   "id": "19daded1-93e0-4ff3-a4ec-e67f15a74da3",
   "metadata": {},
   "source": [
    "**44. Compare the distribution of book prices across different categories using box plots.**\n"
   ]
  },
  {
   "cell_type": "code",
   "execution_count": null,
   "id": "d2225a15-b0a5-474d-8696-da5f989400a9",
   "metadata": {},
   "outputs": [],
   "source": []
  },
  {
   "cell_type": "markdown",
   "id": "1d3b0dd9-ff1e-4b4d-bf4c-544a96c675e3",
   "metadata": {},
   "source": [
    "**45. Explore how the average rating varies across different languages using a bar plot**\n"
   ]
  },
  {
   "cell_type": "code",
   "execution_count": null,
   "id": "a37c431c-72b7-425d-9d6f-f2090e6d636a",
   "metadata": {},
   "outputs": [],
   "source": []
  },
  {
   "cell_type": "markdown",
   "id": "db805656-4bb9-469f-ad61-d482b00fa4b9",
   "metadata": {},
   "source": [
    "**46. Analyze the correlation between numerical variables such as Price, Pages, Average Rating, Total Ratings, etc.**"
   ]
  },
  {
   "cell_type": "code",
   "execution_count": null,
   "id": "aa423867-21ca-4aaa-8d17-c092dd04ed91",
   "metadata": {},
   "outputs": [],
   "source": []
  },
  {
   "cell_type": "markdown",
   "id": "98011a4f-abd4-4e71-a8b0-c82b970fa77a",
   "metadata": {},
   "source": [
    "**47. Visualize the correlation between book price and number of pages.**"
   ]
  },
  {
   "cell_type": "code",
   "execution_count": null,
   "id": "3198f8d1-d650-400d-8857-d6107c9bfb74",
   "metadata": {},
   "outputs": [],
   "source": []
  },
  {
   "cell_type": "markdown",
   "id": "e71caba9-da7a-4888-9f60-23e65285c367",
   "metadata": {},
   "source": [
    "**48. Plot a histogram for the distribution of ratings**"
   ]
  },
  {
   "cell_type": "code",
   "execution_count": null,
   "id": "d2189eed-df6a-41c3-9c63-022aabfd19fb",
   "metadata": {},
   "outputs": [],
   "source": []
  },
  {
   "cell_type": "markdown",
   "id": "f61550e6-fc38-4232-b0d4-f2ce2f4c3b5d",
   "metadata": {},
   "source": [
    "**49. Draw a line plot to show average price for each rating level**"
   ]
  },
  {
   "cell_type": "code",
   "execution_count": null,
   "id": "00795269-7cfa-439f-afcc-007275d93184",
   "metadata": {},
   "outputs": [],
   "source": []
  },
  {
   "cell_type": "markdown",
   "id": "fe89fc1b-4299-4027-8ac7-7fa0747b329f",
   "metadata": {},
   "source": [
    "# Educational Website "
   ]
  },
  {
   "cell_type": "code",
   "execution_count": null,
   "id": "90440c9f-74d9-4a20-847c-69938eaef584",
   "metadata": {},
   "outputs": [],
   "source": [
    "# Read all CSV files into DataFrames\n",
    "users_df = pd.read_csv(\"users.csv\",parse_dates=['date_of_birth','registration_date'], dayfirst=True)\n",
    "courses_df = pd.read_csv(\"courses.csv\",parse_dates=['created_on','last_updated_on'], dayfirst=True)\n",
    "ratings_df = pd.read_csv(\"ratings.csv\",parse_dates=['first_reviewed_on','last_updated_on'], dayfirst=True)\n",
    "enrollments_df = pd.read_csv(\"enrollments.csv\",parse_dates=['enrollment_date'], dayfirst=True)\n",
    "payments_df = pd.read_csv(\"payments.csv\",parse_dates=['transaction_date'], dayfirst=True)\n",
    "refunds_df = pd.read_csv(\"refunds.csv\",parse_dates=['refund_date'], dayfirst=True)"
   ]
  },
  {
   "cell_type": "code",
   "execution_count": null,
   "id": "b72b46db-8102-4af7-a1ee-f09a65db172b",
   "metadata": {},
   "outputs": [],
   "source": [
    "print(\"Users DataFrame columns:\", users_df.columns.tolist(), \"\\n\")\n",
    "print(\"Courses DataFrame columns:\", courses_df.columns.tolist(), \"\\n\")\n",
    "print(\"Ratings DataFrame columns:\", ratings_df.columns.tolist(), \"\\n\")\n",
    "print(\"Enrollments DataFrame columns:\", enrollments_df.columns.tolist(), \"\\n\")\n",
    "print(\"Payments DataFrame columns:\", payments_df.columns.tolist(), \"\\n\")\n",
    "print(\"Refunds DataFrame columns:\", refunds_df.columns.tolist(), \"\\n\")"
   ]
  },
  {
   "cell_type": "markdown",
   "id": "f51d8e38-eef2-494c-b02e-8fbe68a7802a",
   "metadata": {},
   "source": [
    "**50. How many courses are free and how many courses have a price associated with them?**\n"
   ]
  },
  {
   "cell_type": "code",
   "execution_count": null,
   "id": "6691350e-09d2-45f0-b80e-6a2e87c7b2dc",
   "metadata": {},
   "outputs": [],
   "source": []
  },
  {
   "cell_type": "markdown",
   "id": "90bf8887-ce11-4d66-b29f-ca29a3e39060",
   "metadata": {},
   "source": [
    "**51. How many courses is each instructor teaching on the platform?**"
   ]
  },
  {
   "cell_type": "code",
   "execution_count": null,
   "id": "3786fe1f-1354-4917-a2f7-fb5bf1e2cc4f",
   "metadata": {},
   "outputs": [],
   "source": []
  },
  {
   "cell_type": "markdown",
   "id": "f46f3e6e-eaf0-475c-b8bf-2e689a4488e5",
   "metadata": {},
   "source": [
    "**52. Which courses are the most popular based on the number of bookmarks?**"
   ]
  },
  {
   "cell_type": "code",
   "execution_count": null,
   "id": "9d037c46-e013-4340-965e-cf9b741b8471",
   "metadata": {},
   "outputs": [],
   "source": []
  },
  {
   "cell_type": "markdown",
   "id": "95bb6d67-752c-4da2-a644-7e88079b9ee0",
   "metadata": {},
   "source": [
    "**53. How many users are registered in each user category (e.g., Working, Student, Homemaker, Retired)?**"
   ]
  },
  {
   "cell_type": "code",
   "execution_count": null,
   "id": "25e8461c-bffb-4b76-8a1f-e9741ad0652e",
   "metadata": {},
   "outputs": [],
   "source": []
  },
  {
   "cell_type": "markdown",
   "id": "e93d8e87-8e3d-4852-beef-09df44e39b32",
   "metadata": {},
   "source": [
    "**54. What is the male-to-female ratio among the users?**"
   ]
  },
  {
   "cell_type": "code",
   "execution_count": null,
   "id": "1fbeb322-7b0f-40d1-afbf-e0cf6a18344f",
   "metadata": {},
   "outputs": [],
   "source": []
  },
  {
   "cell_type": "markdown",
   "id": "5ee2fa35-21b7-4ce7-9247-8e85a4ce7143",
   "metadata": {},
   "source": [
    "**55. Which courses have the worst completion rates?**\n"
   ]
  },
  {
   "cell_type": "code",
   "execution_count": null,
   "id": "0c390f44-ec96-48ae-9049-b11a9980f367",
   "metadata": {},
   "outputs": [],
   "source": []
  },
  {
   "cell_type": "markdown",
   "id": "6b6c73ac-fe0e-4dae-ae55-740867883b24",
   "metadata": {},
   "source": [
    "**56. What is the most common rating given by students?**"
   ]
  },
  {
   "cell_type": "code",
   "execution_count": null,
   "id": "9c64dcb1-0ef5-4fbe-857e-4a4eaec446fd",
   "metadata": {},
   "outputs": [],
   "source": []
  },
  {
   "cell_type": "markdown",
   "id": "a5b7a13d-ac53-4f67-973d-b219f08ed006",
   "metadata": {},
   "source": [
    "**57. How many unique users are enrolled in at least one course?**"
   ]
  },
  {
   "cell_type": "code",
   "execution_count": null,
   "id": "a2d683b0-4aca-4ed1-80f8-81df5118a2fc",
   "metadata": {},
   "outputs": [],
   "source": []
  },
  {
   "cell_type": "markdown",
   "id": "7d172d1f-e280-4950-8d5c-d121782c431e",
   "metadata": {},
   "source": [
    "**58. How many users are enrolled in multiple courses?**"
   ]
  },
  {
   "cell_type": "code",
   "execution_count": null,
   "id": "2f1548b7-3cb7-46a9-bf49-eac23a9489e3",
   "metadata": {},
   "outputs": [],
   "source": []
  },
  {
   "cell_type": "markdown",
   "id": "e4033207-0971-4061-8e24-255ddb04a82c",
   "metadata": {},
   "source": [
    "**59. Which 5 courses have the most enrollments?**"
   ]
  },
  {
   "cell_type": "code",
   "execution_count": null,
   "id": "02da48fc-64f8-4ab9-8625-33908b938d0d",
   "metadata": {},
   "outputs": [],
   "source": []
  },
  {
   "cell_type": "markdown",
   "id": "ce042503-0bfa-4bc9-9bcd-70c7132bf47b",
   "metadata": {},
   "source": [
    "**60. Find the total revenue generated from successful payments.**"
   ]
  },
  {
   "cell_type": "code",
   "execution_count": null,
   "id": "5cc591b1-9634-48f1-a975-0010517ae822",
   "metadata": {},
   "outputs": [],
   "source": []
  },
  {
   "cell_type": "markdown",
   "id": "59242b70-2f9c-4879-8d3e-e307b322e388",
   "metadata": {},
   "source": [
    "**61. What is the average discount percentage applied across all discounted payments?**"
   ]
  },
  {
   "cell_type": "code",
   "execution_count": null,
   "id": "8a363b11-22fc-44ac-8151-8eb71a75e8a8",
   "metadata": {},
   "outputs": [],
   "source": []
  },
  {
   "cell_type": "markdown",
   "id": "f304e62c-c4e5-4b4e-bcf8-46874e55e802",
   "metadata": {},
   "source": [
    "**62. Find top 3 countries with the highest number of students**"
   ]
  },
  {
   "cell_type": "code",
   "execution_count": null,
   "id": "a151afa6-e9fd-4061-a744-11f52c223127",
   "metadata": {},
   "outputs": [],
   "source": []
  },
  {
   "cell_type": "markdown",
   "id": "57a31eba-0c40-461b-94c8-8c6440490a8a",
   "metadata": {},
   "source": [
    "**63. What is the most common reasons for refunds?**"
   ]
  },
  {
   "cell_type": "code",
   "execution_count": null,
   "id": "64602ac8-149b-40c7-831f-60858ddc9b7f",
   "metadata": {},
   "outputs": [],
   "source": []
  },
  {
   "cell_type": "markdown",
   "id": "656f8f5a-f886-459e-8873-9155cb0fb4ca",
   "metadata": {},
   "source": [
    "**64. Add an age column to the users table and then calculate average age of the students on the website**"
   ]
  },
  {
   "cell_type": "code",
   "execution_count": null,
   "id": "e3f6c46f-934a-4a92-bad9-46a88cb47b2a",
   "metadata": {},
   "outputs": [],
   "source": []
  },
  {
   "cell_type": "markdown",
   "id": "ae6e64fe-f93d-49bc-b96c-c11360c247d6",
   "metadata": {},
   "source": [
    "**65. Find average age of the students in each course**"
   ]
  },
  {
   "cell_type": "code",
   "execution_count": null,
   "id": "d5591a7c-14a4-4915-82b6-063eb15261fa",
   "metadata": {},
   "outputs": [],
   "source": []
  },
  {
   "cell_type": "markdown",
   "id": "b09eba25-f087-44cd-90df-bd95a6e750f7",
   "metadata": {},
   "source": [
    "**66. Find average age of the students in each course category**"
   ]
  },
  {
   "cell_type": "code",
   "execution_count": null,
   "id": "ebd0030d-7ed5-4a04-9018-cac75bd60e25",
   "metadata": {},
   "outputs": [],
   "source": []
  },
  {
   "cell_type": "markdown",
   "id": "ece4178a-ff3b-4615-bd88-e4e2a94a3da4",
   "metadata": {},
   "source": [
    "**67. Calculate the average age of users for each user category (e.g., Working, Student, Homemaker, Retired)**\n"
   ]
  },
  {
   "cell_type": "code",
   "execution_count": null,
   "id": "be4d2909-0880-43a6-9f6e-f0628b09395e",
   "metadata": {},
   "outputs": [],
   "source": []
  },
  {
   "cell_type": "markdown",
   "id": "f7782bb7-086f-4364-9102-d98c91dc21f7",
   "metadata": {},
   "source": [
    "**68. Plot the age distribution of all the users**"
   ]
  },
  {
   "cell_type": "code",
   "execution_count": null,
   "id": "1e22d651-8188-45d6-bac3-ead0281d20c6",
   "metadata": {},
   "outputs": [],
   "source": []
  },
  {
   "cell_type": "markdown",
   "id": "068f71bd-8074-47b5-bf9b-cb8d2dc7f7b7",
   "metadata": {},
   "source": [
    "**69. Plot the gender distribution to understand the gender breakdown of users**"
   ]
  },
  {
   "cell_type": "code",
   "execution_count": null,
   "id": "2ffeea07-cf10-4386-b822-f9da26b15b81",
   "metadata": {},
   "outputs": [],
   "source": []
  },
  {
   "cell_type": "markdown",
   "id": "0dbe9963-a52f-4a10-a5f9-950f0a6c408a",
   "metadata": {},
   "source": [
    "**70. Plot the geographic distribution of users (based on country)**"
   ]
  },
  {
   "cell_type": "code",
   "execution_count": null,
   "id": "2daffd39-29f5-4f52-b114-97ab4104ed51",
   "metadata": {},
   "outputs": [],
   "source": []
  },
  {
   "cell_type": "markdown",
   "id": "5eafdc18-09df-4496-b774-5debc2ab1de8",
   "metadata": {},
   "source": [
    "**71. Show how the age distribution varies for different user types.**"
   ]
  },
  {
   "cell_type": "code",
   "execution_count": null,
   "id": "aa87d632-f9f5-4275-8859-5f13d74e7142",
   "metadata": {},
   "outputs": [],
   "source": []
  },
  {
   "cell_type": "markdown",
   "id": "8a92cc37-71c7-487a-8f51-e68d443cd34f",
   "metadata": {},
   "source": [
    "**72. Find the top 5 most popular courses based on view counts**"
   ]
  },
  {
   "cell_type": "code",
   "execution_count": null,
   "id": "a6d2f69d-115a-44cd-9a7c-24307744fdc6",
   "metadata": {},
   "outputs": [],
   "source": []
  },
  {
   "cell_type": "markdown",
   "id": "40e76cf7-edd7-4c59-a028-5c0bdf85e997",
   "metadata": {},
   "source": [
    "**73. Find the top 2 popular courses in each category based on view counts**"
   ]
  },
  {
   "cell_type": "code",
   "execution_count": null,
   "id": "a568e800-fe1a-41a7-9f0b-baecee4da59b",
   "metadata": {},
   "outputs": [],
   "source": []
  },
  {
   "cell_type": "markdown",
   "id": "84df4554-ffdd-401f-b297-f6d64795a0f7",
   "metadata": {},
   "source": [
    "**74. What is the average course duration per category.**"
   ]
  },
  {
   "cell_type": "code",
   "execution_count": null,
   "id": "2e87c094-29e8-42dd-a2ac-6d00a61cdc2b",
   "metadata": {},
   "outputs": [],
   "source": []
  },
  {
   "cell_type": "markdown",
   "id": "bf7f2b8c-1f7a-41f6-8222-204078e382d9",
   "metadata": {},
   "source": [
    "**75. Find the top 5 highest revenue generating courses**"
   ]
  },
  {
   "cell_type": "code",
   "execution_count": null,
   "id": "8787f7ab-01f5-4aba-802f-9078e4c5cb7b",
   "metadata": {},
   "outputs": [],
   "source": []
  },
  {
   "cell_type": "markdown",
   "id": "dcf7cd0b-91ef-427d-974b-f052db7686ec",
   "metadata": {},
   "source": [
    "**76. What is the average transaction amount for each payment method.**"
   ]
  },
  {
   "cell_type": "code",
   "execution_count": null,
   "id": "05b1a6ae-4dee-45ee-ad1b-1e0595411c46",
   "metadata": {},
   "outputs": [],
   "source": []
  },
  {
   "cell_type": "markdown",
   "id": "00e2a40c-b263-4a8e-a7a8-d411ad6a2d9d",
   "metadata": {},
   "source": [
    "**77. Calulate the average rating for each course and add a column average_rating in courses_df**"
   ]
  },
  {
   "cell_type": "code",
   "execution_count": null,
   "id": "a410abd0-be08-4fed-84ca-1ce40ec6f852",
   "metadata": {},
   "outputs": [],
   "source": []
  },
  {
   "cell_type": "markdown",
   "id": "715fa925-5ff9-48c2-bca2-dfc15996e75a",
   "metadata": {},
   "source": [
    "**78. Find 2 top rated courses in each course category**"
   ]
  },
  {
   "cell_type": "code",
   "execution_count": null,
   "id": "9f6169c3-e47f-4a95-8e81-4087c9ff4817",
   "metadata": {},
   "outputs": [],
   "source": []
  },
  {
   "cell_type": "markdown",
   "id": "9eff72f8-fa3a-42f2-9d7c-5df10b32508e",
   "metadata": {},
   "source": [
    "**79. Display the average rating of each course category**"
   ]
  },
  {
   "cell_type": "code",
   "execution_count": null,
   "id": "cf575474-fe60-4f34-889b-53efcaca1c6a",
   "metadata": {},
   "outputs": [],
   "source": []
  },
  {
   "cell_type": "markdown",
   "id": "11ffb0ab-4aaf-4e78-adc0-c48702694e6c",
   "metadata": {},
   "source": [
    "**80. Calculate the average rating for each instructor.**\n"
   ]
  },
  {
   "cell_type": "code",
   "execution_count": null,
   "id": "a566c4c2-4b0f-4b4d-885c-b272263db24c",
   "metadata": {},
   "outputs": [],
   "source": []
  },
  {
   "cell_type": "markdown",
   "id": "ec9c6126-c516-4994-a63f-fa1d3add4a09",
   "metadata": {},
   "source": [
    "**81. Display courses with no ratings**"
   ]
  },
  {
   "cell_type": "code",
   "execution_count": null,
   "id": "1e843e36-e99d-4e67-ac2f-9066c0144ec4",
   "metadata": {},
   "outputs": [],
   "source": []
  },
  {
   "cell_type": "markdown",
   "id": "b9584e14-d981-420f-9e22-f9323f48502a",
   "metadata": {},
   "source": [
    "**82. Find courses that have no students enrolled in them**"
   ]
  },
  {
   "cell_type": "code",
   "execution_count": null,
   "id": "2c09c64c-1565-4d59-a746-6caca80a1976",
   "metadata": {},
   "outputs": [],
   "source": []
  },
  {
   "cell_type": "markdown",
   "id": "7db1c063-78e8-4405-8b6e-31ee14184381",
   "metadata": {},
   "source": [
    "**83. Find the number of students from each country based on their enrollments.**\n"
   ]
  },
  {
   "cell_type": "code",
   "execution_count": null,
   "id": "483a2e58-2f42-4325-8b7d-e3df4cd37aac",
   "metadata": {},
   "outputs": [],
   "source": []
  },
  {
   "cell_type": "markdown",
   "id": "18fbcf27-dcbd-4d92-a07e-79abe92b6806",
   "metadata": {},
   "source": [
    "**84. Get the course popularity details by country i.e. find the course with the highest number of students in each country.**"
   ]
  },
  {
   "cell_type": "code",
   "execution_count": null,
   "id": "2d3fd97d-8c37-42c9-9d31-50d109ea5e0a",
   "metadata": {},
   "outputs": [],
   "source": []
  },
  {
   "cell_type": "markdown",
   "id": "c11e0830-f6b2-4c96-b71c-89bac4bca771",
   "metadata": {},
   "source": [
    "**85. Find the top 5 bestselling paid courses**"
   ]
  },
  {
   "cell_type": "code",
   "execution_count": null,
   "id": "c30e0f26-10ae-43b6-95a8-5766939faf57",
   "metadata": {},
   "outputs": [],
   "source": []
  },
  {
   "cell_type": "markdown",
   "id": "2833bec7-e020-4597-80fb-54e7e72b4032",
   "metadata": {},
   "source": [
    "**86. Find the bestselling course in each category**"
   ]
  },
  {
   "cell_type": "code",
   "execution_count": null,
   "id": "bc03d762-f08b-4d17-9cac-402ebb8370a9",
   "metadata": {},
   "outputs": [],
   "source": []
  },
  {
   "cell_type": "markdown",
   "id": "cbc28a3e-fa01-4833-aba7-a41e80ebd540",
   "metadata": {},
   "source": [
    "**87. Calculate the number of free enrollments and paid enrollments**"
   ]
  },
  {
   "cell_type": "code",
   "execution_count": null,
   "id": "d20d7e33-dc6a-4174-a136-25d1d84f6623",
   "metadata": {},
   "outputs": [],
   "source": []
  },
  {
   "cell_type": "markdown",
   "id": "ff5d8525-82d1-4692-925e-9a2356eed0b4",
   "metadata": {},
   "source": [
    "**88. Find correlation between the number of videos and the completion_rate.**"
   ]
  },
  {
   "cell_type": "code",
   "execution_count": null,
   "id": "cf7fdb34-56b4-46fe-8ac5-2a0fbbd71658",
   "metadata": {},
   "outputs": [],
   "source": []
  },
  {
   "cell_type": "markdown",
   "id": "6d678178-4b00-4ff0-98bf-8496c4ab8c6a",
   "metadata": {},
   "source": [
    "**89. Find the correlation between number of Quizzes and average rating for each course**"
   ]
  },
  {
   "cell_type": "code",
   "execution_count": null,
   "id": "89e80a96-39ae-400d-8ebf-3cfef36f9d4a",
   "metadata": {},
   "outputs": [],
   "source": []
  },
  {
   "cell_type": "markdown",
   "id": "a5d21a7f-2922-4362-9fea-0e8cb1021985",
   "metadata": {},
   "source": [
    "**90. How many payment transactions failed using paypal**"
   ]
  },
  {
   "cell_type": "code",
   "execution_count": null,
   "id": "de4db065-0f42-4f39-9654-5727c82fdfb3",
   "metadata": {},
   "outputs": [],
   "source": []
  },
  {
   "cell_type": "markdown",
   "id": "7bfa0b34-a972-4eac-8268-964db012713f",
   "metadata": {},
   "source": [
    "**91. Get a summary of payment methods, including how many successful, failed or pending payments are there for each method.**"
   ]
  },
  {
   "cell_type": "code",
   "execution_count": null,
   "id": "48eb362a-3330-43a6-996f-ff44390ed94e",
   "metadata": {},
   "outputs": [],
   "source": []
  },
  {
   "cell_type": "markdown",
   "id": "69b70c69-794b-45e4-a515-0701d8fe2fb6",
   "metadata": {},
   "source": [
    "**92. Display the courses that were never refunded**"
   ]
  },
  {
   "cell_type": "code",
   "execution_count": null,
   "id": "d9f4773d-917e-4737-9a8e-30f45b232ba7",
   "metadata": {},
   "outputs": [],
   "source": []
  },
  {
   "cell_type": "markdown",
   "id": "eb31d8b8-51e3-4eca-a42c-8c8ff428e22d",
   "metadata": {},
   "source": [
    "**93. Use box plot to plot distribution of completion rates by difficulty level.**"
   ]
  },
  {
   "cell_type": "code",
   "execution_count": null,
   "id": "8485eb65-bf9a-4ddf-9976-47200a401da5",
   "metadata": {},
   "outputs": [],
   "source": []
  },
  {
   "cell_type": "markdown",
   "id": "95fb7e8a-26a1-4973-ae4c-535b11305531",
   "metadata": {},
   "source": [
    "**94. Identify the course category with the most enrollments**"
   ]
  },
  {
   "cell_type": "code",
   "execution_count": null,
   "id": "af9e85ba-f447-404f-9df2-22602436cb36",
   "metadata": {},
   "outputs": [],
   "source": []
  },
  {
   "cell_type": "markdown",
   "id": "bf95283c-e668-41c8-89ec-a4a0154a5f6e",
   "metadata": {},
   "source": [
    "**95. Find the number of inactive users - users who have not logged in during the last 30 days.**"
   ]
  },
  {
   "cell_type": "code",
   "execution_count": null,
   "id": "88d8167e-990d-4bc9-a2e5-1c414937e86c",
   "metadata": {},
   "outputs": [],
   "source": []
  },
  {
   "cell_type": "markdown",
   "id": "883aa4e3-a8b5-40b3-a3b5-fc91be3526b3",
   "metadata": {},
   "source": [
    "**96. What is the average price of courses in each category? (exclude the free courses)**"
   ]
  },
  {
   "cell_type": "code",
   "execution_count": null,
   "id": "4ec044cd-3665-4174-882d-c4a8e71a8ab2",
   "metadata": {},
   "outputs": [],
   "source": []
  },
  {
   "cell_type": "markdown",
   "id": "7c83c027-bbdc-45cf-9889-6fec14a6eb2b",
   "metadata": {},
   "source": [
    "**97. How many courses are available with subtitles?**"
   ]
  },
  {
   "cell_type": "code",
   "execution_count": null,
   "id": "f3a717d1-5ba3-4a38-a546-252d19ecba36",
   "metadata": {},
   "outputs": [],
   "source": []
  },
  {
   "cell_type": "markdown",
   "id": "c91b4762-6bdc-4c07-9fdc-cb90eb210d82",
   "metadata": {},
   "source": [
    "**98. What percentage of courses offer certifications?**"
   ]
  },
  {
   "cell_type": "code",
   "execution_count": null,
   "id": "72d01b20-3c56-4c70-95e9-f776d5bd92d8",
   "metadata": {},
   "outputs": [],
   "source": []
  },
  {
   "cell_type": "markdown",
   "id": "ab27337a-7a9d-4772-8fce-b3b1417bbb05",
   "metadata": {},
   "source": [
    "**99. What is the average time gap between a user's registration date and their first enrollment date?**"
   ]
  },
  {
   "cell_type": "code",
   "execution_count": null,
   "id": "2ac4b060-ac60-462f-9196-5117cba0304f",
   "metadata": {},
   "outputs": [],
   "source": []
  },
  {
   "cell_type": "markdown",
   "id": "9f4798b4-079a-4e67-97b3-e958f31cb9aa",
   "metadata": {},
   "source": [
    "**100. Get the email addresses and names of users who have signed up but have not enrolled in any course.**"
   ]
  },
  {
   "cell_type": "code",
   "execution_count": null,
   "id": "dcccc9b3-8337-4811-b0b4-f7576781017d",
   "metadata": {},
   "outputs": [],
   "source": []
  },
  {
   "cell_type": "markdown",
   "id": "6238b5c7-f8d0-4d2b-a163-b2be08c80ba2",
   "metadata": {},
   "source": [
    "**101. Find the customers who are refunding without any reason**"
   ]
  },
  {
   "cell_type": "code",
   "execution_count": null,
   "id": "34b61c6e-d2dc-4631-9804-bcf837d53c2f",
   "metadata": {},
   "outputs": [],
   "source": []
  },
  {
   "cell_type": "markdown",
   "id": "5b139885-3a56-4378-90aa-202cd0f77aac",
   "metadata": {},
   "source": [
    "**102. Analyze monthly new user growth to understand monthly trends**"
   ]
  },
  {
   "cell_type": "code",
   "execution_count": null,
   "id": "bdd7f745-cf2a-4706-a94f-d9e43c280d5e",
   "metadata": {},
   "outputs": [],
   "source": []
  },
  {
   "cell_type": "markdown",
   "id": "b4767553-6e0e-4946-bba4-63fd31bf4293",
   "metadata": {},
   "source": [
    "**103. Calculate and plot the cumulative user growth**"
   ]
  },
  {
   "cell_type": "code",
   "execution_count": null,
   "id": "75c98f03-8b25-4e98-9dd9-8714c1f6d066",
   "metadata": {},
   "outputs": [],
   "source": []
  },
  {
   "cell_type": "markdown",
   "id": "3b300024-f606-4b53-ac43-eaeb0da557bb",
   "metadata": {},
   "source": [
    "**104. Generate the monthly revenue report** "
   ]
  },
  {
   "cell_type": "code",
   "execution_count": null,
   "id": "0305fd69-058a-4be1-bd2e-d605e436eb46",
   "metadata": {},
   "outputs": [],
   "source": []
  },
  {
   "cell_type": "markdown",
   "id": "2754be8f-6e8c-45b1-95f9-d79c38c7d2d3",
   "metadata": {},
   "source": [
    "**105. Generate the annual revenue report** "
   ]
  },
  {
   "cell_type": "code",
   "execution_count": null,
   "id": "9071f47c-ec19-4d9c-b440-891b4f3b1b35",
   "metadata": {},
   "outputs": [],
   "source": []
  },
  {
   "cell_type": "markdown",
   "id": "cb6b9879-beab-440e-9685-44fe89940462",
   "metadata": {},
   "source": [
    "**106. Analyze whether there are more purchases on weekdays or weekends**"
   ]
  },
  {
   "cell_type": "code",
   "execution_count": null,
   "id": "28ce7242-6fc3-4174-92ed-56c8e1f4ca7b",
   "metadata": {},
   "outputs": [],
   "source": []
  },
  {
   "cell_type": "markdown",
   "id": "ff710ac2-0fd3-493f-8fb9-f7f0988b8c88",
   "metadata": {},
   "source": [
    "**107. Which coupon code is used most frequently?  Visualize the distribution of coupon code usage**"
   ]
  },
  {
   "cell_type": "code",
   "execution_count": null,
   "id": "5af007cc-d8d0-44e8-ad84-c7bfca2de8af",
   "metadata": {},
   "outputs": [],
   "source": []
  },
  {
   "cell_type": "markdown",
   "id": "edd5afab-6c31-47a3-972c-c054393177e5",
   "metadata": {},
   "source": [
    "**108. Analyze completion rates by country**"
   ]
  },
  {
   "cell_type": "code",
   "execution_count": null,
   "id": "7bc08b25-c932-4e0a-aed6-30f131f4631f",
   "metadata": {},
   "outputs": [],
   "source": []
  }
 ],
 "metadata": {
  "kernelspec": {
   "display_name": "Python [conda env:base] *",
   "language": "python",
   "name": "conda-base-py"
  },
  "language_info": {
   "codemirror_mode": {
    "name": "ipython",
    "version": 3
   },
   "file_extension": ".py",
   "mimetype": "text/x-python",
   "name": "python",
   "nbconvert_exporter": "python",
   "pygments_lexer": "ipython3",
   "version": "3.12.7"
  }
 },
 "nbformat": 4,
 "nbformat_minor": 5
}
